{
 "metadata": {
  "language_info": {
   "codemirror_mode": {
    "name": "ipython",
    "version": 3
   },
   "file_extension": ".py",
   "mimetype": "text/x-python",
   "name": "python",
   "nbconvert_exporter": "python",
   "pygments_lexer": "ipython3",
   "version": "3.7.6-final"
  },
  "orig_nbformat": 2,
  "kernelspec": {
   "name": "python3",
   "display_name": "Python 3"
  }
 },
 "nbformat": 4,
 "nbformat_minor": 2,
 "cells": [
  {
   "cell_type": "code",
   "execution_count": 13,
   "metadata": {},
   "outputs": [],
   "source": [
    "import moviepy\n",
    "from moviepy.editor import VideoFileClip\n",
    "import pandas as pd"
   ]
  },
  {
   "cell_type": "code",
   "execution_count": 14,
   "metadata": {},
   "outputs": [],
   "source": [
    "movie_path = 'Videos/MesesLSM.mp4'\n",
    "\n",
    "movie = VideoFileClip(movie_path)"
   ]
  },
  {
   "cell_type": "code",
   "execution_count": 21,
   "metadata": {},
   "outputs": [
    {
     "output_type": "execute_result",
     "data": {
      "text/plain": [
       "  Tiempo inicial - hh:mm:ss.ms Tiempo final - hh:mm:ss.ms     Nombre  \\\n",
       "0                 00:00:00.910               00:00:02.690      Enero   \n",
       "1                 00:00:04.100               00:00:06.140    Febrero   \n",
       "2                 00:00:08.970               00:00:10.910      Marzo   \n",
       "3                 00:00:12.050               00:00:14.090  Marzo (2)   \n",
       "4                 00:00:15.740               00:00:17.750      Abril   \n",
       "\n",
       "                          ConfiguracionMano       Movimiento  \\\n",
       "0  Letra \"E\" del abecedario dactilologico\\t     Semicircular   \n",
       "1      Letra \"F\" del abecedario dactilogico     Semicircular   \n",
       "2    Letra \"M\" del abecedario dactilologico         Circular   \n",
       "3     Se deletrea abreviado \"M\" \"R\" \"Z\" \"O\"  Sin movimiento.   \n",
       "4    Letra \"A\" del abecedario dactilologico         Circular   \n",
       "\n",
       "                                  Ubicación  \\\n",
       "0                    Entre barbilla y pecho   \n",
       "1                    Entre barbilla y pecho   \n",
       "2  Cara, al lado de oreja de mano dominante   \n",
       "3                    Entre barbilla y pecho   \n",
       "4  Cara, al lado de oreja de mano dominante   \n",
       "\n",
       "                                  Orientacion PuntodeContacto  \\\n",
       "0         Mano lateral con meñique al a vista    Sin contacto   \n",
       "1         Mano lateral con Meñique a la vista    Sin contacto   \n",
       "2  Con la \"M\" girar el circulo hacia adelante    Sin contacto   \n",
       "3                    Palma abajo dorso arriba    Sin contacto   \n",
       "4  Con la \"A\" girar el circulo hacia adelante    Sin contacto   \n",
       "\n",
       "                                 PlanodeArticulacion ComponentesNomanuales  \\\n",
       "0  Se gira 1 vez y se regresa al lugar de origen....       Sin componentes   \n",
       "1        Se gira 1 vez y se regresa origen. 2 veces.      Sin comoponentes   \n",
       "2       Se pueden hacer 1 o 2 movimientos circulares       Sin componentes   \n",
       "3                                          Sin plano       Sin compomentes   \n",
       "4              Se pueden hacer una o dos movimientos       Sin componentes   \n",
       "\n",
       "   Unnamed: 10  \n",
       "0          NaN  \n",
       "1          NaN  \n",
       "2          NaN  \n",
       "3          NaN  \n",
       "4          NaN  "
      ],
      "text/html": "<div>\n<style scoped>\n    .dataframe tbody tr th:only-of-type {\n        vertical-align: middle;\n    }\n\n    .dataframe tbody tr th {\n        vertical-align: top;\n    }\n\n    .dataframe thead th {\n        text-align: right;\n    }\n</style>\n<table border=\"1\" class=\"dataframe\">\n  <thead>\n    <tr style=\"text-align: right;\">\n      <th></th>\n      <th>Tiempo inicial - hh:mm:ss.ms</th>\n      <th>Tiempo final - hh:mm:ss.ms</th>\n      <th>Nombre</th>\n      <th>ConfiguracionMano</th>\n      <th>Movimiento</th>\n      <th>Ubicación</th>\n      <th>Orientacion</th>\n      <th>PuntodeContacto</th>\n      <th>PlanodeArticulacion</th>\n      <th>ComponentesNomanuales</th>\n      <th>Unnamed: 10</th>\n    </tr>\n  </thead>\n  <tbody>\n    <tr>\n      <th>0</th>\n      <td>00:00:00.910</td>\n      <td>00:00:02.690</td>\n      <td>Enero</td>\n      <td>Letra \"E\" del abecedario dactilologico\\t</td>\n      <td>Semicircular</td>\n      <td>Entre barbilla y pecho</td>\n      <td>Mano lateral con meñique al a vista</td>\n      <td>Sin contacto</td>\n      <td>Se gira 1 vez y se regresa al lugar de origen....</td>\n      <td>Sin componentes</td>\n      <td>NaN</td>\n    </tr>\n    <tr>\n      <th>1</th>\n      <td>00:00:04.100</td>\n      <td>00:00:06.140</td>\n      <td>Febrero</td>\n      <td>Letra \"F\" del abecedario dactilogico</td>\n      <td>Semicircular</td>\n      <td>Entre barbilla y pecho</td>\n      <td>Mano lateral con Meñique a la vista</td>\n      <td>Sin contacto</td>\n      <td>Se gira 1 vez y se regresa origen. 2 veces.</td>\n      <td>Sin comoponentes</td>\n      <td>NaN</td>\n    </tr>\n    <tr>\n      <th>2</th>\n      <td>00:00:08.970</td>\n      <td>00:00:10.910</td>\n      <td>Marzo</td>\n      <td>Letra \"M\" del abecedario dactilologico</td>\n      <td>Circular</td>\n      <td>Cara, al lado de oreja de mano dominante</td>\n      <td>Con la \"M\" girar el circulo hacia adelante</td>\n      <td>Sin contacto</td>\n      <td>Se pueden hacer 1 o 2 movimientos circulares</td>\n      <td>Sin componentes</td>\n      <td>NaN</td>\n    </tr>\n    <tr>\n      <th>3</th>\n      <td>00:00:12.050</td>\n      <td>00:00:14.090</td>\n      <td>Marzo (2)</td>\n      <td>Se deletrea abreviado \"M\" \"R\" \"Z\" \"O\"</td>\n      <td>Sin movimiento.</td>\n      <td>Entre barbilla y pecho</td>\n      <td>Palma abajo dorso arriba</td>\n      <td>Sin contacto</td>\n      <td>Sin plano</td>\n      <td>Sin compomentes</td>\n      <td>NaN</td>\n    </tr>\n    <tr>\n      <th>4</th>\n      <td>00:00:15.740</td>\n      <td>00:00:17.750</td>\n      <td>Abril</td>\n      <td>Letra \"A\" del abecedario dactilologico</td>\n      <td>Circular</td>\n      <td>Cara, al lado de oreja de mano dominante</td>\n      <td>Con la \"A\" girar el circulo hacia adelante</td>\n      <td>Sin contacto</td>\n      <td>Se pueden hacer una o dos movimientos</td>\n      <td>Sin componentes</td>\n      <td>NaN</td>\n    </tr>\n  </tbody>\n</table>\n</div>"
     },
     "metadata": {},
     "execution_count": 21
    }
   ],
   "source": [
    "file_path = 'csvs/MesesLSM.csv'\n",
    "\n",
    "anotacion = pd.read_csv(file_path, header = 1)\n",
    "anotacion.head()"
   ]
  },
  {
   "cell_type": "code",
   "execution_count": 47,
   "metadata": {},
   "outputs": [
    {
     "output_type": "stream",
     "name": "stdout",
     "text": [
      "43.9\n",
      "00:00:00.91\n",
      "00:00:02.69\n",
      "1.7799999999999998\n",
      "Enero.mp4\n",
      "00:00:04.10\n",
      "00:00:06.14\n",
      "2.04\n",
      "Febrero.mp4\n",
      "00:00:08.97\n",
      "00:00:10.91\n",
      "1.9399999999999995\n",
      "Marzo.mp4\n",
      "00:00:12.05\n",
      "00:00:14.09\n",
      "2.039999999999999\n",
      "Marzo (2).mp4\n",
      "00:00:15.74\n",
      "00:00:17.75\n",
      "2.01\n",
      "Abril.mp4\n",
      "00:00:20.03\n",
      "00:00:22.38\n",
      "2.349999999999998\n",
      "Mayo.mp4\n",
      "00:00:23.92\n",
      "00:00:24.98\n",
      "1.0599999999999987\n",
      "Mayo (2).mp4\n",
      "00:00:27.22\n",
      "00:00:29.00\n",
      "1.7800000000000011\n",
      "Junio.mp4\n",
      "00:00:29.23\n",
      "00:00:31.82\n",
      "2.59\n",
      "Julio.mp4\n",
      "00:00:32.28\n",
      "00:00:34.62\n",
      "2.3399999999999963\n",
      "Agosto.mp4\n",
      "00:00:34.83\n",
      "00:00:36.76\n",
      "1.9299999999999997\n",
      "Septiembre.mp4\n",
      "00:00:37.29\n",
      "00:00:39.47\n",
      "2.1799999999999997\n",
      "Octubre.mp4\n",
      "00:00:39.72\n",
      "00:00:41.64\n",
      "1.9200000000000017\n",
      "Noviembre.mp4\n",
      "00:00:41.87\n",
      "00:00:43.64\n",
      "1.7700000000000031\n",
      "Diciembre.mp4\n"
     ]
    }
   ],
   "source": [
    "i = 0\n",
    "print(movie.duration)\n",
    "while i < len(anotacion):\n",
    "    t_i = anotacion['Tiempo inicial - hh:mm:ss.ms'][i][:-1]\n",
    "    print(t_i)\n",
    "    t_f = anotacion['Tiempo final - hh:mm:ss.ms'][i][:-1]\n",
    "    print(t_f)\n",
    "    sub = movie.subclip(t_i, t_f)\n",
    "    print(sub.duration)\n",
    "    path_save = anotacion['Nombre'][i] + '.mp4'\n",
    "    print(path_save)\n",
    "    #sub.write_videofile('Videos/Meses' + path_save)\n",
    "    sub.close()\n",
    "    i+=1"
   ]
  },
  {
   "cell_type": "code",
   "execution_count": 48,
   "metadata": {
    "tags": []
   },
   "outputs": [
    {
     "output_type": "stream",
     "name": "stderr",
     "text": [
      "t:   0%|          | 0/52 [00:00<?, ?it/s, now=None]Moviepy - Building video Videos/MesesEnero.mp4.\n",
      "Moviepy - Writing video Videos/MesesEnero.mp4\n",
      "\n",
      "Moviepy - Done !\n",
      "Moviepy - video ready Videos/MesesEnero.mp4\n",
      "t:   0%|          | 0/60 [00:00<?, ?it/s, now=None]Moviepy - Building video Videos/MesesFebrero.mp4.\n",
      "Moviepy - Writing video Videos/MesesFebrero.mp4\n",
      "\n",
      "Moviepy - Done !\n",
      "Moviepy - video ready Videos/MesesFebrero.mp4\n",
      "t:   0%|          | 0/57 [00:00<?, ?it/s, now=None]Moviepy - Building video Videos/MesesMarzo.mp4.\n",
      "Moviepy - Writing video Videos/MesesMarzo.mp4\n",
      "\n",
      "Moviepy - Done !\n",
      "Moviepy - video ready Videos/MesesMarzo.mp4\n",
      "t:   0%|          | 0/60 [00:00<?, ?it/s, now=None]Moviepy - Building video Videos/MesesMarzo (2).mp4.\n",
      "Moviepy - Writing video Videos/MesesMarzo (2).mp4\n",
      "\n",
      "Moviepy - Done !\n",
      "Moviepy - video ready Videos/MesesMarzo (2).mp4\n",
      "t:   0%|          | 0/59 [00:00<?, ?it/s, now=None]Moviepy - Building video Videos/MesesAbril.mp4.\n",
      "Moviepy - Writing video Videos/MesesAbril.mp4\n",
      "\n",
      "Moviepy - Done !\n",
      "Moviepy - video ready Videos/MesesAbril.mp4\n",
      "t:   0%|          | 0/69 [00:00<?, ?it/s, now=None]Moviepy - Building video Videos/MesesMayo.mp4.\n",
      "Moviepy - Writing video Videos/MesesMayo.mp4\n",
      "\n",
      "Moviepy - Done !\n",
      "Moviepy - video ready Videos/MesesMayo.mp4\n",
      "t:   0%|          | 0/31 [00:00<?, ?it/s, now=None]Moviepy - Building video Videos/MesesMayo (2).mp4.\n",
      "Moviepy - Writing video Videos/MesesMayo (2).mp4\n",
      "\n",
      "Moviepy - Done !\n",
      "Moviepy - video ready Videos/MesesMayo (2).mp4\n",
      "t:   0%|          | 0/52 [00:00<?, ?it/s, now=None]Moviepy - Building video Videos/MesesJunio.mp4.\n",
      "Moviepy - Writing video Videos/MesesJunio.mp4\n",
      "\n",
      "Moviepy - Done !\n",
      "Moviepy - video ready Videos/MesesJunio.mp4\n",
      "t:   0%|          | 0/76 [00:00<?, ?it/s, now=None]Moviepy - Building video Videos/MesesJulio.mp4.\n",
      "Moviepy - Writing video Videos/MesesJulio.mp4\n",
      "\n",
      "t:  58%|█████▊    | 44/76 [00:00<00:01, 29.01it/s, now=None]"
     ]
    },
    {
     "output_type": "error",
     "ename": "KeyboardInterrupt",
     "evalue": "",
     "traceback": [
      "\u001b[1;31m---------------------------------------------------------------------------\u001b[0m",
      "\u001b[1;31mKeyboardInterrupt\u001b[0m                         Traceback (most recent call last)",
      "\u001b[1;32m<ipython-input-48-4fa1613c2da7>\u001b[0m in \u001b[0;36m<module>\u001b[1;34m\u001b[0m\n\u001b[0;32m      5\u001b[0m     \u001b[0msub\u001b[0m \u001b[1;33m=\u001b[0m \u001b[0mmovie\u001b[0m\u001b[1;33m.\u001b[0m\u001b[0msubclip\u001b[0m\u001b[1;33m(\u001b[0m\u001b[0mt_i\u001b[0m\u001b[1;33m,\u001b[0m \u001b[0mt_f\u001b[0m\u001b[1;33m)\u001b[0m\u001b[1;33m\u001b[0m\u001b[1;33m\u001b[0m\u001b[0m\n\u001b[0;32m      6\u001b[0m     \u001b[0mpath_save\u001b[0m \u001b[1;33m=\u001b[0m \u001b[0manotacion\u001b[0m\u001b[1;33m[\u001b[0m\u001b[1;34m'Nombre'\u001b[0m\u001b[1;33m]\u001b[0m\u001b[1;33m[\u001b[0m\u001b[0mi\u001b[0m\u001b[1;33m]\u001b[0m \u001b[1;33m+\u001b[0m \u001b[1;34m'.mp4'\u001b[0m\u001b[1;33m\u001b[0m\u001b[1;33m\u001b[0m\u001b[0m\n\u001b[1;32m----> 7\u001b[1;33m     \u001b[0msub\u001b[0m\u001b[1;33m.\u001b[0m\u001b[0mwrite_videofile\u001b[0m\u001b[1;33m(\u001b[0m\u001b[1;34m'Videos/Meses'\u001b[0m \u001b[1;33m+\u001b[0m \u001b[0mpath_save\u001b[0m\u001b[1;33m)\u001b[0m\u001b[1;33m\u001b[0m\u001b[1;33m\u001b[0m\u001b[0m\n\u001b[0m\u001b[0;32m      8\u001b[0m     \u001b[0msub\u001b[0m\u001b[1;33m.\u001b[0m\u001b[0mclose\u001b[0m\u001b[1;33m(\u001b[0m\u001b[1;33m)\u001b[0m\u001b[1;33m\u001b[0m\u001b[1;33m\u001b[0m\u001b[0m\n\u001b[0;32m      9\u001b[0m     \u001b[0mi\u001b[0m\u001b[1;33m+=\u001b[0m\u001b[1;36m1\u001b[0m\u001b[1;33m\u001b[0m\u001b[1;33m\u001b[0m\u001b[0m\n",
      "\u001b[1;32m<decorator-gen-181>\u001b[0m in \u001b[0;36mwrite_videofile\u001b[1;34m(self, filename, fps, codec, bitrate, audio, audio_fps, preset, audio_nbytes, audio_codec, audio_bitrate, audio_bufsize, temp_audiofile, rewrite_audio, remove_temp, write_logfile, verbose, threads, ffmpeg_params, logger)\u001b[0m\n",
      "\u001b[1;32m~\\anaconda3\\lib\\site-packages\\moviepy\\decorators.py\u001b[0m in \u001b[0;36mrequires_duration\u001b[1;34m(f, clip, *a, **k)\u001b[0m\n\u001b[0;32m     52\u001b[0m         \u001b[1;32mraise\u001b[0m \u001b[0mValueError\u001b[0m\u001b[1;33m(\u001b[0m\u001b[1;34m\"Attribute 'duration' not set\"\u001b[0m\u001b[1;33m)\u001b[0m\u001b[1;33m\u001b[0m\u001b[1;33m\u001b[0m\u001b[0m\n\u001b[0;32m     53\u001b[0m     \u001b[1;32melse\u001b[0m\u001b[1;33m:\u001b[0m\u001b[1;33m\u001b[0m\u001b[1;33m\u001b[0m\u001b[0m\n\u001b[1;32m---> 54\u001b[1;33m         \u001b[1;32mreturn\u001b[0m \u001b[0mf\u001b[0m\u001b[1;33m(\u001b[0m\u001b[0mclip\u001b[0m\u001b[1;33m,\u001b[0m \u001b[1;33m*\u001b[0m\u001b[0ma\u001b[0m\u001b[1;33m,\u001b[0m \u001b[1;33m**\u001b[0m\u001b[0mk\u001b[0m\u001b[1;33m)\u001b[0m\u001b[1;33m\u001b[0m\u001b[1;33m\u001b[0m\u001b[0m\n\u001b[0m\u001b[0;32m     55\u001b[0m \u001b[1;33m\u001b[0m\u001b[0m\n\u001b[0;32m     56\u001b[0m \u001b[1;33m\u001b[0m\u001b[0m\n",
      "\u001b[1;32m<decorator-gen-180>\u001b[0m in \u001b[0;36mwrite_videofile\u001b[1;34m(self, filename, fps, codec, bitrate, audio, audio_fps, preset, audio_nbytes, audio_codec, audio_bitrate, audio_bufsize, temp_audiofile, rewrite_audio, remove_temp, write_logfile, verbose, threads, ffmpeg_params, logger)\u001b[0m\n",
      "\u001b[1;32m~\\anaconda3\\lib\\site-packages\\moviepy\\decorators.py\u001b[0m in \u001b[0;36muse_clip_fps_by_default\u001b[1;34m(f, clip, *a, **k)\u001b[0m\n\u001b[0;32m    133\u001b[0m              for (k,v) in k.items()}\n\u001b[0;32m    134\u001b[0m \u001b[1;33m\u001b[0m\u001b[0m\n\u001b[1;32m--> 135\u001b[1;33m     \u001b[1;32mreturn\u001b[0m \u001b[0mf\u001b[0m\u001b[1;33m(\u001b[0m\u001b[0mclip\u001b[0m\u001b[1;33m,\u001b[0m \u001b[1;33m*\u001b[0m\u001b[0mnew_a\u001b[0m\u001b[1;33m,\u001b[0m \u001b[1;33m**\u001b[0m\u001b[0mnew_kw\u001b[0m\u001b[1;33m)\u001b[0m\u001b[1;33m\u001b[0m\u001b[1;33m\u001b[0m\u001b[0m\n\u001b[0m",
      "\u001b[1;32m<decorator-gen-179>\u001b[0m in \u001b[0;36mwrite_videofile\u001b[1;34m(self, filename, fps, codec, bitrate, audio, audio_fps, preset, audio_nbytes, audio_codec, audio_bitrate, audio_bufsize, temp_audiofile, rewrite_audio, remove_temp, write_logfile, verbose, threads, ffmpeg_params, logger)\u001b[0m\n",
      "\u001b[1;32m~\\anaconda3\\lib\\site-packages\\moviepy\\decorators.py\u001b[0m in \u001b[0;36mconvert_masks_to_RGB\u001b[1;34m(f, clip, *a, **k)\u001b[0m\n\u001b[0;32m     20\u001b[0m     \u001b[1;32mif\u001b[0m \u001b[0mclip\u001b[0m\u001b[1;33m.\u001b[0m\u001b[0mismask\u001b[0m\u001b[1;33m:\u001b[0m\u001b[1;33m\u001b[0m\u001b[1;33m\u001b[0m\u001b[0m\n\u001b[0;32m     21\u001b[0m         \u001b[0mclip\u001b[0m \u001b[1;33m=\u001b[0m \u001b[0mclip\u001b[0m\u001b[1;33m.\u001b[0m\u001b[0mto_RGB\u001b[0m\u001b[1;33m(\u001b[0m\u001b[1;33m)\u001b[0m\u001b[1;33m\u001b[0m\u001b[1;33m\u001b[0m\u001b[0m\n\u001b[1;32m---> 22\u001b[1;33m     \u001b[1;32mreturn\u001b[0m \u001b[0mf\u001b[0m\u001b[1;33m(\u001b[0m\u001b[0mclip\u001b[0m\u001b[1;33m,\u001b[0m \u001b[1;33m*\u001b[0m\u001b[0ma\u001b[0m\u001b[1;33m,\u001b[0m \u001b[1;33m**\u001b[0m\u001b[0mk\u001b[0m\u001b[1;33m)\u001b[0m\u001b[1;33m\u001b[0m\u001b[1;33m\u001b[0m\u001b[0m\n\u001b[0m\u001b[0;32m     23\u001b[0m \u001b[1;33m\u001b[0m\u001b[0m\n\u001b[0;32m     24\u001b[0m \u001b[1;33m@\u001b[0m\u001b[0mdecorator\u001b[0m\u001b[1;33m.\u001b[0m\u001b[0mdecorator\u001b[0m\u001b[1;33m\u001b[0m\u001b[1;33m\u001b[0m\u001b[0m\n",
      "\u001b[1;32m~\\anaconda3\\lib\\site-packages\\moviepy\\video\\VideoClip.py\u001b[0m in \u001b[0;36mwrite_videofile\u001b[1;34m(self, filename, fps, codec, bitrate, audio, audio_fps, preset, audio_nbytes, audio_codec, audio_bitrate, audio_bufsize, temp_audiofile, rewrite_audio, remove_temp, write_logfile, verbose, threads, ffmpeg_params, logger)\u001b[0m\n\u001b[0;32m    305\u001b[0m                            \u001b[0mverbose\u001b[0m\u001b[1;33m=\u001b[0m\u001b[0mverbose\u001b[0m\u001b[1;33m,\u001b[0m \u001b[0mthreads\u001b[0m\u001b[1;33m=\u001b[0m\u001b[0mthreads\u001b[0m\u001b[1;33m,\u001b[0m\u001b[1;33m\u001b[0m\u001b[1;33m\u001b[0m\u001b[0m\n\u001b[0;32m    306\u001b[0m                            \u001b[0mffmpeg_params\u001b[0m\u001b[1;33m=\u001b[0m\u001b[0mffmpeg_params\u001b[0m\u001b[1;33m,\u001b[0m\u001b[1;33m\u001b[0m\u001b[1;33m\u001b[0m\u001b[0m\n\u001b[1;32m--> 307\u001b[1;33m                            logger=logger)\n\u001b[0m\u001b[0;32m    308\u001b[0m \u001b[1;33m\u001b[0m\u001b[0m\n\u001b[0;32m    309\u001b[0m         \u001b[1;32mif\u001b[0m \u001b[0mremove_temp\u001b[0m \u001b[1;32mand\u001b[0m \u001b[0mmake_audio\u001b[0m\u001b[1;33m:\u001b[0m\u001b[1;33m\u001b[0m\u001b[1;33m\u001b[0m\u001b[0m\n",
      "\u001b[1;32m~\\anaconda3\\lib\\site-packages\\moviepy\\video\\io\\ffmpeg_writer.py\u001b[0m in \u001b[0;36mffmpeg_write_video\u001b[1;34m(clip, filename, fps, codec, bitrate, preset, withmask, write_logfile, audiofile, verbose, threads, ffmpeg_params, logger)\u001b[0m\n\u001b[0;32m    226\u001b[0m                 \u001b[0mframe\u001b[0m \u001b[1;33m=\u001b[0m \u001b[0mnp\u001b[0m\u001b[1;33m.\u001b[0m\u001b[0mdstack\u001b[0m\u001b[1;33m(\u001b[0m\u001b[1;33m[\u001b[0m\u001b[0mframe\u001b[0m\u001b[1;33m,\u001b[0m\u001b[0mmask\u001b[0m\u001b[1;33m]\u001b[0m\u001b[1;33m)\u001b[0m\u001b[1;33m\u001b[0m\u001b[1;33m\u001b[0m\u001b[0m\n\u001b[0;32m    227\u001b[0m \u001b[1;33m\u001b[0m\u001b[0m\n\u001b[1;32m--> 228\u001b[1;33m             \u001b[0mwriter\u001b[0m\u001b[1;33m.\u001b[0m\u001b[0mwrite_frame\u001b[0m\u001b[1;33m(\u001b[0m\u001b[0mframe\u001b[0m\u001b[1;33m)\u001b[0m\u001b[1;33m\u001b[0m\u001b[1;33m\u001b[0m\u001b[0m\n\u001b[0m\u001b[0;32m    229\u001b[0m \u001b[1;33m\u001b[0m\u001b[0m\n\u001b[0;32m    230\u001b[0m     \u001b[1;32mif\u001b[0m \u001b[0mwrite_logfile\u001b[0m\u001b[1;33m:\u001b[0m\u001b[1;33m\u001b[0m\u001b[1;33m\u001b[0m\u001b[0m\n",
      "\u001b[1;32m~\\anaconda3\\lib\\site-packages\\moviepy\\video\\io\\ffmpeg_writer.py\u001b[0m in \u001b[0;36mwrite_frame\u001b[1;34m(self, img_array)\u001b[0m\n\u001b[0;32m    134\u001b[0m         \u001b[1;32mtry\u001b[0m\u001b[1;33m:\u001b[0m\u001b[1;33m\u001b[0m\u001b[1;33m\u001b[0m\u001b[0m\n\u001b[0;32m    135\u001b[0m             \u001b[1;32mif\u001b[0m \u001b[0mPY3\u001b[0m\u001b[1;33m:\u001b[0m\u001b[1;33m\u001b[0m\u001b[1;33m\u001b[0m\u001b[0m\n\u001b[1;32m--> 136\u001b[1;33m                \u001b[0mself\u001b[0m\u001b[1;33m.\u001b[0m\u001b[0mproc\u001b[0m\u001b[1;33m.\u001b[0m\u001b[0mstdin\u001b[0m\u001b[1;33m.\u001b[0m\u001b[0mwrite\u001b[0m\u001b[1;33m(\u001b[0m\u001b[0mimg_array\u001b[0m\u001b[1;33m.\u001b[0m\u001b[0mtobytes\u001b[0m\u001b[1;33m(\u001b[0m\u001b[1;33m)\u001b[0m\u001b[1;33m)\u001b[0m\u001b[1;33m\u001b[0m\u001b[1;33m\u001b[0m\u001b[0m\n\u001b[0m\u001b[0;32m    137\u001b[0m             \u001b[1;32melse\u001b[0m\u001b[1;33m:\u001b[0m\u001b[1;33m\u001b[0m\u001b[1;33m\u001b[0m\u001b[0m\n\u001b[0;32m    138\u001b[0m                \u001b[0mself\u001b[0m\u001b[1;33m.\u001b[0m\u001b[0mproc\u001b[0m\u001b[1;33m.\u001b[0m\u001b[0mstdin\u001b[0m\u001b[1;33m.\u001b[0m\u001b[0mwrite\u001b[0m\u001b[1;33m(\u001b[0m\u001b[0mimg_array\u001b[0m\u001b[1;33m.\u001b[0m\u001b[0mtostring\u001b[0m\u001b[1;33m(\u001b[0m\u001b[1;33m)\u001b[0m\u001b[1;33m)\u001b[0m\u001b[1;33m\u001b[0m\u001b[1;33m\u001b[0m\u001b[0m\n",
      "\u001b[1;31mKeyboardInterrupt\u001b[0m: "
     ]
    }
   ],
   "source": [
    "i = 0\n",
    "while i < len(anotacion):\n",
    "    t_i = anotacion['Tiempo inicial - hh:mm:ss.ms'][i][:-1]\n",
    "    t_f = anotacion['Tiempo final - hh:mm:ss.ms'][i][:-1]\n",
    "    sub = movie.subclip(t_i, t_f)\n",
    "    path_save = anotacion['Nombre'][i] + '.mp4'\n",
    "    sub.write_videofile('Videos/Meses/' + path_save)\n",
    "    sub.close()\n",
    "    i+=1"
   ]
  },
  {
   "cell_type": "code",
   "execution_count": null,
   "metadata": {},
   "outputs": [],
   "source": []
  },
  {
   "cell_type": "code",
   "execution_count": null,
   "metadata": {},
   "outputs": [],
   "source": []
  }
 ]
}