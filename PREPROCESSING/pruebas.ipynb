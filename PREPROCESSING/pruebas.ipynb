{
 "metadata": {
  "language_info": {
   "codemirror_mode": {
    "name": "ipython",
    "version": 3
   },
   "file_extension": ".py",
   "mimetype": "text/x-python",
   "name": "python",
   "nbconvert_exporter": "python",
   "pygments_lexer": "ipython3",
   "version": "3.7.6-final"
  },
  "orig_nbformat": 2,
  "kernelspec": {
   "name": "python3",
   "display_name": "Python 3.7.6 64-bit (conda)",
   "metadata": {
    "interpreter": {
     "hash": "d71a4cfe3d8a50c00193755433b4621f113acec37a86d099cf1bae0978d88179"
    }
   }
  }
 },
 "nbformat": 4,
 "nbformat_minor": 2,
 "cells": [
  {
   "source": [
    "print(\"hello world\")"
   ],
   "cell_type": "code",
   "metadata": {},
   "execution_count": 1,
   "outputs": [
    {
     "output_type": "stream",
     "name": "stdout",
     "text": [
      "hello world\n"
     ]
    }
   ]
  },
  {
   "cell_type": "code",
   "execution_count": 2,
   "metadata": {
    "tags": []
   },
   "outputs": [
    {
     "output_type": "stream",
     "name": "stdout",
     "text": [
      "0.0,0.0,594.0,96.0,798.0,300.0\n",
      "\n",
      "4\n",
      "csvs/MesesLSM_faces.csv\n",
      "None\n"
     ]
    }
   ],
   "source": [
    "import fileinput\n",
    "file1 = 'csvs/MesesLSM.csv'\n",
    "file2 = 'csvs/MesesLSM_faces.csv'\n",
    "a = []\n",
    "with fileinput.input(files=(file2,\n",
    "    file1)) as f:\n",
    "    #f.nextfile()\n",
    "    print(f.readline())\n",
    "    print(f.fileno())\n",
    "    print(f.filename())\n",
    "    print(f.nextfile())\n",
    "    "
   ]
  },
  {
   "cell_type": "code",
   "execution_count": 3,
   "metadata": {},
   "outputs": [
    {
     "output_type": "execute_result",
     "data": {
      "text/plain": [
       "  Tiempo inicial - hh:mm:ss.ms Tiempo final - hh:mm:ss.ms     Nombre  \\\n",
       "0                 00:00:00.910               00:00:02.690      Enero   \n",
       "1                 00:00:04.100               00:00:06.140    Febrero   \n",
       "2                 00:00:08.970               00:00:10.910      Marzo   \n",
       "3                 00:00:12.050               00:00:14.090  Marzo (2)   \n",
       "4                 00:00:15.740               00:00:17.750      Abril   \n",
       "\n",
       "                          ConfiguracionMano       Movimiento  \\\n",
       "0  Letra \"E\" del abecedario dactilologico\\t     Semicircular   \n",
       "1      Letra \"F\" del abecedario dactilogico     Semicircular   \n",
       "2    Letra \"M\" del abecedario dactilologico         Circular   \n",
       "3     Se deletrea abreviado \"M\" \"R\" \"Z\" \"O\"  Sin movimiento.   \n",
       "4    Letra \"A\" del abecedario dactilologico         Circular   \n",
       "\n",
       "                                  Ubicación  \\\n",
       "0                    Entre barbilla y pecho   \n",
       "1                    Entre barbilla y pecho   \n",
       "2  Cara, al lado de oreja de mano dominante   \n",
       "3                    Entre barbilla y pecho   \n",
       "4  Cara, al lado de oreja de mano dominante   \n",
       "\n",
       "                                  Orientacion PuntodeContacto  \\\n",
       "0         Mano lateral con meñique al a vista    Sin contacto   \n",
       "1         Mano lateral con Meñique a la vista    Sin contacto   \n",
       "2  Con la \"M\" girar el circulo hacia adelante    Sin contacto   \n",
       "3                    Palma abajo dorso arriba    Sin contacto   \n",
       "4  Con la \"A\" girar el circulo hacia adelante    Sin contacto   \n",
       "\n",
       "                                 PlanodeArticulacion ComponentesNomanuales  \\\n",
       "0  Se gira 1 vez y se regresa al lugar de origen....       Sin componentes   \n",
       "1        Se gira 1 vez y se regresa origen. 2 veces.      Sin comoponentes   \n",
       "2       Se pueden hacer 1 o 2 movimientos circulares       Sin componentes   \n",
       "3                                          Sin plano       Sin compomentes   \n",
       "4              Se pueden hacer una o dos movimientos       Sin componentes   \n",
       "\n",
       "   Unnamed: 10  \n",
       "0          NaN  \n",
       "1          NaN  \n",
       "2          NaN  \n",
       "3          NaN  \n",
       "4          NaN  "
      ],
      "text/html": "<div>\n<style scoped>\n    .dataframe tbody tr th:only-of-type {\n        vertical-align: middle;\n    }\n\n    .dataframe tbody tr th {\n        vertical-align: top;\n    }\n\n    .dataframe thead th {\n        text-align: right;\n    }\n</style>\n<table border=\"1\" class=\"dataframe\">\n  <thead>\n    <tr style=\"text-align: right;\">\n      <th></th>\n      <th>Tiempo inicial - hh:mm:ss.ms</th>\n      <th>Tiempo final - hh:mm:ss.ms</th>\n      <th>Nombre</th>\n      <th>ConfiguracionMano</th>\n      <th>Movimiento</th>\n      <th>Ubicación</th>\n      <th>Orientacion</th>\n      <th>PuntodeContacto</th>\n      <th>PlanodeArticulacion</th>\n      <th>ComponentesNomanuales</th>\n      <th>Unnamed: 10</th>\n    </tr>\n  </thead>\n  <tbody>\n    <tr>\n      <th>0</th>\n      <td>00:00:00.910</td>\n      <td>00:00:02.690</td>\n      <td>Enero</td>\n      <td>Letra \"E\" del abecedario dactilologico\\t</td>\n      <td>Semicircular</td>\n      <td>Entre barbilla y pecho</td>\n      <td>Mano lateral con meñique al a vista</td>\n      <td>Sin contacto</td>\n      <td>Se gira 1 vez y se regresa al lugar de origen....</td>\n      <td>Sin componentes</td>\n      <td>NaN</td>\n    </tr>\n    <tr>\n      <th>1</th>\n      <td>00:00:04.100</td>\n      <td>00:00:06.140</td>\n      <td>Febrero</td>\n      <td>Letra \"F\" del abecedario dactilogico</td>\n      <td>Semicircular</td>\n      <td>Entre barbilla y pecho</td>\n      <td>Mano lateral con Meñique a la vista</td>\n      <td>Sin contacto</td>\n      <td>Se gira 1 vez y se regresa origen. 2 veces.</td>\n      <td>Sin comoponentes</td>\n      <td>NaN</td>\n    </tr>\n    <tr>\n      <th>2</th>\n      <td>00:00:08.970</td>\n      <td>00:00:10.910</td>\n      <td>Marzo</td>\n      <td>Letra \"M\" del abecedario dactilologico</td>\n      <td>Circular</td>\n      <td>Cara, al lado de oreja de mano dominante</td>\n      <td>Con la \"M\" girar el circulo hacia adelante</td>\n      <td>Sin contacto</td>\n      <td>Se pueden hacer 1 o 2 movimientos circulares</td>\n      <td>Sin componentes</td>\n      <td>NaN</td>\n    </tr>\n    <tr>\n      <th>3</th>\n      <td>00:00:12.050</td>\n      <td>00:00:14.090</td>\n      <td>Marzo (2)</td>\n      <td>Se deletrea abreviado \"M\" \"R\" \"Z\" \"O\"</td>\n      <td>Sin movimiento.</td>\n      <td>Entre barbilla y pecho</td>\n      <td>Palma abajo dorso arriba</td>\n      <td>Sin contacto</td>\n      <td>Sin plano</td>\n      <td>Sin compomentes</td>\n      <td>NaN</td>\n    </tr>\n    <tr>\n      <th>4</th>\n      <td>00:00:15.740</td>\n      <td>00:00:17.750</td>\n      <td>Abril</td>\n      <td>Letra \"A\" del abecedario dactilologico</td>\n      <td>Circular</td>\n      <td>Cara, al lado de oreja de mano dominante</td>\n      <td>Con la \"A\" girar el circulo hacia adelante</td>\n      <td>Sin contacto</td>\n      <td>Se pueden hacer una o dos movimientos</td>\n      <td>Sin componentes</td>\n      <td>NaN</td>\n    </tr>\n  </tbody>\n</table>\n</div>"
     },
     "metadata": {},
     "execution_count": 3
    }
   ],
   "source": [
    "import pandas as pd\n",
    "\n",
    "file1 = 'csvs/MesesLSM.csv'\n",
    "\n",
    "###\n",
    "lector = pd.read_csv(file1, header = 1)\n",
    "\n",
    "lector.head()"
   ]
  },
  {
   "cell_type": "code",
   "execution_count": 4,
   "metadata": {},
   "outputs": [
    {
     "output_type": "execute_result",
     "data": {
      "text/plain": [
       "0     00:00:00.910\n",
       "1     00:00:04.100\n",
       "2     00:00:08.970\n",
       "3     00:00:12.050\n",
       "4     00:00:15.740\n",
       "5     00:00:20.035\n",
       "6     00:00:23.920\n",
       "7     00:00:27.220\n",
       "8     00:00:29.230\n",
       "9     00:00:32.285\n",
       "10    00:00:34.830\n",
       "11    00:00:37.290\n",
       "12    00:00:39.725\n",
       "13    00:00:41.870\n",
       "Name: Tiempo inicial - hh:mm:ss.ms, dtype: object"
      ]
     },
     "metadata": {},
     "execution_count": 4
    }
   ],
   "source": [
    "lector[\"Tiempo inicial - hh:mm:ss.ms\"]"
   ]
  },
  {
   "cell_type": "code",
   "execution_count": 5,
   "metadata": {},
   "outputs": [
    {
     "output_type": "stream",
     "name": "stdout",
     "text": [
      "1900-01-01T00:00:00.910\n1900-01-01T00:00:04.100\n1900-01-01T00:00:08.970\n1900-01-01T00:00:12.050\n1900-01-01T00:00:15.740\n1900-01-01T00:00:20.035\n1900-01-01T00:00:23.920\n1900-01-01T00:00:27.220\n1900-01-01T00:00:29.230\n1900-01-01T00:00:32.285\n1900-01-01T00:00:34.830\n1900-01-01T00:00:37.290\n1900-01-01T00:00:39.725\n1900-01-01T00:00:41.870\n"
     ]
    }
   ],
   "source": [
    "from datetime import datetime, timedelta, time\n",
    "format = '%H:%M:%S.%f'\n",
    "#columna = time(second = 0, tzinfo=None, fold=0)\n",
    "#columna = timedelta(microseconds=0)\n",
    "columna = []\n",
    "\n",
    "i = 0\n",
    "for row in lector[\"Tiempo inicial - hh:mm:ss.ms\"]:\n",
    "    # .isoformat(timespec = 'milliseconds')\n",
    "    print(datetime.strptime(row, format).isoformat(timespec = 'milliseconds'))\n",
    "    columna.append(datetime.strptime(row, format).isoformat(timespec = 'milliseconds'))\n",
    "    i+=1\n",
    "    #print(type(row), row)\n",
    "lector[\"Tiempo inicial - hh:mm:ss.ms\"] = columna\n"
   ]
  },
  {
   "cell_type": "code",
   "execution_count": 6,
   "metadata": {},
   "outputs": [],
   "source": [
    "ti = []\n",
    "tf = []\n",
    "for time_i in lector[\"Tiempo inicial - hh:mm:ss.ms\"]:\n",
    "    ti.append(time_i[-12:])\n",
    "\n",
    "for time_f in lector[\"Tiempo final - hh:mm:ss.ms\"]:\n",
    "    tf.append(time_f[-12:])\n",
    "\n",
    "lector[\"Tiempo inicial - hh:mm:ss.ms\"] = ti\n",
    "\n",
    "lector[\"Tiempo final - hh:mm:ss.ms\"] = tf\n",
    "  "
   ]
  },
  {
   "source": [
    "# ENTONCES PRIMERO CORTO LOS VIDEOS CON MOVIEPY, LUEGO EXTRAIGO CARAS CON OPENCV Y TAMBIÉN KEYPOINTS CON OPENPOSE, ESTO PARA CADA VIDEO RECORTADO CON MOVIEPY\n"
   ],
   "cell_type": "markdown",
   "metadata": {}
  },
  {
   "source": [
    "import numpy as np\n",
    "import cv2\n",
    "\n",
    "cap = cv2.VideoCapture(0)\n",
    "\n",
    "#fgbg = cv2.bgsegm.createBackgroundSubtractorMOG()\n",
    "fgbg = cv2.createBackgroundSubtractorMOG2()\n",
    "\n",
    "while(1):\n",
    "    ret, frame = cap.read()\n",
    "\n",
    "    fgmask = fgbg.apply(frame)\n",
    "\n",
    "    cv2.imshow('frame',fgmask)\n",
    "    k = cv2.waitKey(30) & 0xff\n",
    "    if k == 27:\n",
    "        break\n",
    "\n",
    "cap.release()\n",
    "cv2.destroyAllWindows()"
   ],
   "cell_type": "code",
   "metadata": {},
   "execution_count": 7,
   "outputs": []
  },
  {
   "cell_type": "code",
   "execution_count": 8,
   "metadata": {},
   "outputs": [
    {
     "output_type": "error",
     "ename": "NameError",
     "evalue": "name 'cv' is not defined",
     "traceback": [
      "\u001b[1;31m---------------------------------------------------------------------------\u001b[0m",
      "\u001b[1;31mNameError\u001b[0m                                 Traceback (most recent call last)",
      "\u001b[1;32m<ipython-input-8-b416a5839bab>\u001b[0m in \u001b[0;36m<module>\u001b[1;34m\u001b[0m\n\u001b[0;32m     28\u001b[0m \u001b[1;33m\u001b[0m\u001b[0m\n\u001b[0;32m     29\u001b[0m \u001b[0mcapture\u001b[0m\u001b[1;33m.\u001b[0m\u001b[0mrelease\u001b[0m\u001b[1;33m(\u001b[0m\u001b[1;33m)\u001b[0m\u001b[1;33m\u001b[0m\u001b[1;33m\u001b[0m\u001b[0m\n\u001b[1;32m---> 30\u001b[1;33m \u001b[0mcv\u001b[0m\u001b[1;33m.\u001b[0m\u001b[0mdestroyAllWindows\u001b[0m\u001b[1;33m(\u001b[0m\u001b[1;33m)\u001b[0m\u001b[1;33m\u001b[0m\u001b[1;33m\u001b[0m\u001b[0m\n\u001b[0m",
      "\u001b[1;31mNameError\u001b[0m: name 'cv' is not defined"
     ]
    }
   ],
   "source": [
    "import cv2\n",
    "\n",
    "movie_path = 'Videos/MesesLSM.mp4'\n",
    "\n",
    "capture = cv2.VideoCapture(0)\n",
    "num_frames = int(capture.get(7))\n",
    "\n",
    "face_cascade = cv2.CascadeClassifier(cv2.data.haarcascades + 'haarcascade_frontalface_default.xml')\n",
    "eye_cascade = cv2.CascadeClassifier(cv2.data.haarcascades + 'haarcascade_eye.xml')\n",
    "\n",
    "while True:\n",
    "    ret, frame = capture.read()\n",
    "    img = frame\n",
    "    gray = cv2.cvtColor(img, cv2.COLOR_BGR2GRAY)\n",
    "    faces = face_cascade.detectMultiScale(gray, 1.3, 5)\n",
    "\n",
    "    for (x,y,w,h) in faces:\n",
    "        img = cv2.rectangle(img,(x,y),(x+w,y+h),(255,0,0),2)\n",
    "        roi_gray = gray[y:y+h, x:x+w]\n",
    "        roi_color = img[y:y+h, x:x+w] \n",
    "\n",
    "\n",
    "    cv2.imshow(\"Demo\", img)\n",
    "\n",
    "    k = cv2.waitKey(30) & 0xff\n",
    "    if k == 27:\n",
    "        break\n",
    "\n",
    "capture.release()\n",
    "cv.destroyAllWindows()\n"
   ]
  },
  {
   "cell_type": "code",
   "execution_count": null,
   "metadata": {},
   "outputs": [],
   "source": [
    "import datetime\n",
    "\n",
    "num_frames = 1200\n",
    "freq = 60 / FPS\n",
    "\n",
    "dti = pd.date_range('2020-01-01', periods = num_frames, freq = 'ms')"
   ]
  }
 ]
}