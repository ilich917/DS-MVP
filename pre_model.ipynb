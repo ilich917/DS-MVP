{
 "cells": [
  {
   "cell_type": "code",
   "execution_count": 1,
   "metadata": {
    "_cell_guid": "b1076dfc-b9ad-4769-8c92-a6c4dae69d19",
    "_uuid": "8f2839f25d086af736a60e9eeb907d3b93b6e0e5",
    "execution": {
     "iopub.execute_input": "2020-11-29T03:11:35.952736Z",
     "iopub.status.busy": "2020-11-29T03:11:35.951813Z",
     "iopub.status.idle": "2020-11-29T03:11:38.444955Z",
     "shell.execute_reply": "2020-11-29T03:11:38.443911Z"
    },
    "papermill": {
     "duration": 2.570087,
     "end_time": "2020-11-29T03:11:38.445084",
     "exception": false,
     "start_time": "2020-11-29T03:11:35.874997",
     "status": "completed"
    },
    "tags": []
   },
   "outputs": [],
   "source": [
    "from __future__ import print_function\n",
    "from __future__ import division\n",
    "\n",
    "import time\n",
    "import copy\n",
    "import os\n",
    "import urllib\n",
    "import gc\n",
    "import datetime\n",
    "import warnings\n",
    "import random\n",
    "\n",
    "import numpy as np\n",
    "import pandas as pd\n",
    "\n",
    "import torch\n",
    "import torch.nn as nn\n",
    "import torch.utils.model_zoo as model_zoo\n",
    "import torch.optim as optim\n",
    "import torch.onnx\n",
    "import torchvision\n",
    "from torchvision import models, transforms\n",
    "\n",
    "import cv2\n",
    "\n",
    "\n",
    "from torch.utils.data import Dataset, DataLoader, Subset\n",
    "from torch.optim.lr_scheduler import ReduceLROnPlateau\n",
    "from sklearn.metrics import accuracy_score, roc_auc_score\n",
    "from sklearn.model_selection import StratifiedKFold, GroupKFold, KFold\n",
    "\n",
    "import matplotlib.pyplot as plt\n",
    "from PIL import Image"
   ]
  },
  {
   "cell_type": "code",
   "execution_count": null,
   "metadata": {
    "papermill": {
     "duration": 0.034779,
     "end_time": "2020-11-29T03:11:38.515503",
     "exception": false,
     "start_time": "2020-11-29T03:11:38.480724",
     "status": "completed"
    },
    "tags": []
   },
   "outputs": [],
   "source": []
  },
  {
   "cell_type": "code",
   "execution_count": 2,
   "metadata": {
    "execution": {
     "iopub.execute_input": "2020-11-29T03:11:38.589821Z",
     "iopub.status.busy": "2020-11-29T03:11:38.588082Z",
     "iopub.status.idle": "2020-11-29T03:11:38.590854Z",
     "shell.execute_reply": "2020-11-29T03:11:38.591334Z"
    },
    "papermill": {
     "duration": 0.04075,
     "end_time": "2020-11-29T03:11:38.591451",
     "exception": false,
     "start_time": "2020-11-29T03:11:38.550701",
     "status": "completed"
    },
    "tags": []
   },
   "outputs": [],
   "source": [
    "#!conda install scipy==1.2.0"
   ]
  },
  {
   "cell_type": "code",
   "execution_count": 3,
   "metadata": {
    "execution": {
     "iopub.execute_input": "2020-11-29T03:11:38.658592Z",
     "iopub.status.busy": "2020-11-29T03:11:38.657608Z",
     "iopub.status.idle": "2020-11-29T03:11:38.662926Z",
     "shell.execute_reply": "2020-11-29T03:11:38.663927Z"
    },
    "papermill": {
     "duration": 0.04131,
     "end_time": "2020-11-29T03:11:38.664063",
     "exception": false,
     "start_time": "2020-11-29T03:11:38.622753",
     "status": "completed"
    },
    "tags": []
   },
   "outputs": [
    {
     "name": "stdout",
     "output_type": "stream",
     "text": [
      "PyTorch Version:  1.6.0\n",
      "Torchvision Version:  0.7.0\n"
     ]
    }
   ],
   "source": [
    "print(\"PyTorch Version: \",torch.__version__)\n",
    "print(\"Torchvision Version: \",torchvision.__version__)"
   ]
  },
  {
   "cell_type": "code",
   "execution_count": 4,
   "metadata": {
    "execution": {
     "iopub.execute_input": "2020-11-29T03:11:38.734249Z",
     "iopub.status.busy": "2020-11-29T03:11:38.733395Z",
     "iopub.status.idle": "2020-11-29T03:11:39.019945Z",
     "shell.execute_reply": "2020-11-29T03:11:39.019271Z"
    },
    "papermill": {
     "duration": 0.322884,
     "end_time": "2020-11-29T03:11:39.020067",
     "exception": false,
     "start_time": "2020-11-29T03:11:38.697183",
     "status": "completed"
    },
    "tags": []
   },
   "outputs": [],
   "source": [
    "pretrained = models.inception_v3(init_weights=False)"
   ]
  },
  {
   "cell_type": "code",
   "execution_count": 1,
   "metadata": {
    "execution": {
     "iopub.execute_input": "2020-11-29T03:11:39.100447Z",
     "iopub.status.busy": "2020-11-29T03:11:39.099466Z",
     "iopub.status.idle": "2020-11-29T03:11:39.104448Z",
     "shell.execute_reply": "2020-11-29T03:11:39.104953Z"
    },
    "papermill": {
     "duration": 0.050988,
     "end_time": "2020-11-29T03:11:39.105074",
     "exception": false,
     "start_time": "2020-11-29T03:11:39.054086",
     "status": "completed"
    },
    "tags": []
   },
   "outputs": [],
   "source": [
    "#pretrained"
   ]
  },
  {
   "cell_type": "code",
   "execution_count": 6,
   "metadata": {
    "execution": {
     "iopub.execute_input": "2020-11-29T03:11:39.176245Z",
     "iopub.status.busy": "2020-11-29T03:11:39.175594Z",
     "iopub.status.idle": "2020-11-29T03:11:39.416906Z",
     "shell.execute_reply": "2020-11-29T03:11:39.415556Z"
    },
    "papermill": {
     "duration": 0.278878,
     "end_time": "2020-11-29T03:11:39.417040",
     "exception": false,
     "start_time": "2020-11-29T03:11:39.138162",
     "status": "completed"
    },
    "tags": []
   },
   "outputs": [],
   "source": [
    "pretrained_weights = torch.load('../input/torchvision-inception-v3-imagenet-pretrained/inception_v3_google-1a9a5a14.pth', map_location='cpu')\n",
    "#pretrained_weights"
   ]
  },
  {
   "cell_type": "code",
   "execution_count": 7,
   "metadata": {
    "execution": {
     "iopub.execute_input": "2020-11-29T03:11:39.490960Z",
     "iopub.status.busy": "2020-11-29T03:11:39.490185Z",
     "iopub.status.idle": "2020-11-29T03:11:39.562014Z",
     "shell.execute_reply": "2020-11-29T03:11:39.561462Z"
    },
    "papermill": {
     "duration": 0.111181,
     "end_time": "2020-11-29T03:11:39.562141",
     "exception": false,
     "start_time": "2020-11-29T03:11:39.450960",
     "status": "completed"
    },
    "tags": []
   },
   "outputs": [
    {
     "data": {
      "text/plain": [
       "<All keys matched successfully>"
      ]
     },
     "execution_count": 7,
     "metadata": {},
     "output_type": "execute_result"
    }
   ],
   "source": [
    "pretrained.load_state_dict(pretrained_weights)"
   ]
  },
  {
   "cell_type": "code",
   "execution_count": 8,
   "metadata": {
    "execution": {
     "iopub.execute_input": "2020-11-29T03:11:39.636802Z",
     "iopub.status.busy": "2020-11-29T03:11:39.635831Z",
     "iopub.status.idle": "2020-11-29T03:11:39.641524Z",
     "shell.execute_reply": "2020-11-29T03:11:39.642045Z"
    },
    "papermill": {
     "duration": 0.046079,
     "end_time": "2020-11-29T03:11:39.642179",
     "exception": false,
     "start_time": "2020-11-29T03:11:39.596100",
     "status": "completed"
    },
    "tags": []
   },
   "outputs": [
    {
     "data": {
      "text/plain": [
       "torchvision.models.inception.Inception3"
      ]
     },
     "execution_count": 8,
     "metadata": {},
     "output_type": "execute_result"
    }
   ],
   "source": [
    "pretrained.__class__"
   ]
  },
  {
   "cell_type": "code",
   "execution_count": 9,
   "metadata": {
    "_cell_guid": "79c7e3d0-c299-4dcb-8224-4455121ee9b0",
    "_uuid": "d629ff2d2480ee46fbb7e2d37f6b5fab8052498a",
    "execution": {
     "iopub.execute_input": "2020-11-29T03:11:39.723077Z",
     "iopub.status.busy": "2020-11-29T03:11:39.722464Z",
     "iopub.status.idle": "2020-11-29T03:11:39.802561Z",
     "shell.execute_reply": "2020-11-29T03:11:39.801797Z"
    },
    "papermill": {
     "duration": 0.126434,
     "end_time": "2020-11-29T03:11:39.802717",
     "exception": false,
     "start_time": "2020-11-29T03:11:39.676283",
     "status": "completed"
    },
    "tags": []
   },
   "outputs": [],
   "source": [
    "train = pd.read_csv('/kaggle/input/jpeg-melanoma-256x256/train.csv')\n",
    "#train.head()"
   ]
  },
  {
   "cell_type": "code",
   "execution_count": 10,
   "metadata": {
    "execution": {
     "iopub.execute_input": "2020-11-29T03:11:39.881365Z",
     "iopub.status.busy": "2020-11-29T03:11:39.880734Z",
     "iopub.status.idle": "2020-11-29T03:11:39.928611Z",
     "shell.execute_reply": "2020-11-29T03:11:39.928110Z"
    },
    "papermill": {
     "duration": 0.088765,
     "end_time": "2020-11-29T03:11:39.928738",
     "exception": false,
     "start_time": "2020-11-29T03:11:39.839973",
     "status": "completed"
    },
    "tags": []
   },
   "outputs": [],
   "source": [
    "train = train.dropna(axis=0)\n",
    "#train.info()"
   ]
  },
  {
   "cell_type": "code",
   "execution_count": 11,
   "metadata": {
    "execution": {
     "iopub.execute_input": "2020-11-29T03:11:40.005354Z",
     "iopub.status.busy": "2020-11-29T03:11:40.004688Z",
     "iopub.status.idle": "2020-11-29T03:11:40.032343Z",
     "shell.execute_reply": "2020-11-29T03:11:40.031707Z"
    },
    "papermill": {
     "duration": 0.067362,
     "end_time": "2020-11-29T03:11:40.032467",
     "exception": false,
     "start_time": "2020-11-29T03:11:39.965105",
     "status": "completed"
    },
    "tags": []
   },
   "outputs": [],
   "source": [
    "test = pd.read_csv('/kaggle/input/jpeg-melanoma-256x256/test.csv')\n",
    "#test.head()"
   ]
  },
  {
   "cell_type": "code",
   "execution_count": 12,
   "metadata": {
    "execution": {
     "iopub.execute_input": "2020-11-29T03:11:40.115061Z",
     "iopub.status.busy": "2020-11-29T03:11:40.114068Z",
     "iopub.status.idle": "2020-11-29T03:11:40.136971Z",
     "shell.execute_reply": "2020-11-29T03:11:40.136436Z"
    },
    "papermill": {
     "duration": 0.067783,
     "end_time": "2020-11-29T03:11:40.137079",
     "exception": false,
     "start_time": "2020-11-29T03:11:40.069296",
     "status": "completed"
    },
    "tags": []
   },
   "outputs": [
    {
     "name": "stdout",
     "output_type": "stream",
     "text": [
      "<class 'pandas.core.frame.DataFrame'>\n",
      "Int64Index: 10631 entries, 1 to 10981\n",
      "Data columns (total 7 columns):\n",
      " #   Column                         Non-Null Count  Dtype  \n",
      "---  ------                         --------------  -----  \n",
      " 0   image_name                     10631 non-null  object \n",
      " 1   patient_id                     10631 non-null  object \n",
      " 2   sex                            10631 non-null  object \n",
      " 3   age_approx                     10631 non-null  float64\n",
      " 4   anatom_site_general_challenge  10631 non-null  object \n",
      " 5   width                          10631 non-null  int64  \n",
      " 6   height                         10631 non-null  int64  \n",
      "dtypes: float64(1), int64(2), object(4)\n",
      "memory usage: 664.4+ KB\n"
     ]
    }
   ],
   "source": [
    "test = test.dropna(axis=0)\n",
    "test.info()"
   ]
  },
  {
   "cell_type": "code",
   "execution_count": 13,
   "metadata": {
    "execution": {
     "iopub.execute_input": "2020-11-29T03:11:40.214769Z",
     "iopub.status.busy": "2020-11-29T03:11:40.214048Z",
     "iopub.status.idle": "2020-11-29T03:11:40.218221Z",
     "shell.execute_reply": "2020-11-29T03:11:40.217457Z"
    },
    "papermill": {
     "duration": 0.044113,
     "end_time": "2020-11-29T03:11:40.218324",
     "exception": false,
     "start_time": "2020-11-29T03:11:40.174211",
     "status": "completed"
    },
    "tags": []
   },
   "outputs": [],
   "source": [
    "path_train = '../input/jpeg-melanoma-256x256/train/'\n",
    "path_test = '../input/jpeg-melanoma-256x256/test/'"
   ]
  },
  {
   "cell_type": "code",
   "execution_count": 14,
   "metadata": {
    "execution": {
     "iopub.execute_input": "2020-11-29T03:11:40.294780Z",
     "iopub.status.busy": "2020-11-29T03:11:40.294060Z",
     "iopub.status.idle": "2020-11-29T03:11:41.003229Z",
     "shell.execute_reply": "2020-11-29T03:11:41.004398Z"
    },
    "papermill": {
     "duration": 0.749631,
     "end_time": "2020-11-29T03:11:41.004618",
     "exception": false,
     "start_time": "2020-11-29T03:11:40.254987",
     "status": "completed"
    },
    "tags": []
   },
   "outputs": [],
   "source": [
    "dir_train = os.listdir(path_train)\n",
    "dir_test = os.listdir(path_test)"
   ]
  },
  {
   "cell_type": "code",
   "execution_count": 15,
   "metadata": {
    "execution": {
     "iopub.execute_input": "2020-11-29T03:11:41.118705Z",
     "iopub.status.busy": "2020-11-29T03:11:41.117335Z",
     "iopub.status.idle": "2020-11-29T03:11:41.120272Z",
     "shell.execute_reply": "2020-11-29T03:11:41.119560Z"
    },
    "papermill": {
     "duration": 0.061974,
     "end_time": "2020-11-29T03:11:41.120407",
     "exception": false,
     "start_time": "2020-11-29T03:11:41.058433",
     "status": "completed"
    },
    "tags": []
   },
   "outputs": [],
   "source": [
    "def add_jpg(nombre):\n",
    "    nombre = nombre + '.jpg'\n",
    "    return nombre"
   ]
  },
  {
   "cell_type": "code",
   "execution_count": 16,
   "metadata": {
    "execution": {
     "iopub.execute_input": "2020-11-29T03:11:41.264087Z",
     "iopub.status.busy": "2020-11-29T03:11:41.263203Z",
     "iopub.status.idle": "2020-11-29T03:11:41.264959Z",
     "shell.execute_reply": "2020-11-29T03:11:41.266273Z"
    },
    "papermill": {
     "duration": 0.061402,
     "end_time": "2020-11-29T03:11:41.266460",
     "exception": false,
     "start_time": "2020-11-29T03:11:41.205058",
     "status": "completed"
    },
    "tags": []
   },
   "outputs": [],
   "source": [
    "def buscar_imagen(path, nombre):\n",
    "    if add_jpg(nombre) in directorio:\n",
    "        image = np.array(path + nombre)\n",
    "    return image"
   ]
  },
  {
   "cell_type": "code",
   "execution_count": 17,
   "metadata": {
    "execution": {
     "iopub.execute_input": "2020-11-29T03:11:41.383340Z",
     "iopub.status.busy": "2020-11-29T03:11:41.382453Z",
     "iopub.status.idle": "2020-11-29T03:12:02.293131Z",
     "shell.execute_reply": "2020-11-29T03:12:02.292052Z"
    },
    "papermill": {
     "duration": 20.974937,
     "end_time": "2020-11-29T03:12:02.293250",
     "exception": false,
     "start_time": "2020-11-29T03:11:41.318313",
     "status": "completed"
    },
    "tags": []
   },
   "outputs": [
    {
     "name": "stdout",
     "output_type": "stream",
     "text": [
      "listo\n"
     ]
    }
   ],
   "source": [
    "for nombre_imagen in train['image_name']:\n",
    "    if add_jpg(nombre_imagen) not in dir_train:\n",
    "        os.remove(path_train + add_jpg(nombre_imagen))\n",
    "print('listo')\n",
    "for nombre_imagen in test['image_name']:\n",
    "    if add_jpg(nombre_imagen) not in dir_test:\n",
    "        os.remove(path_test + add_jpg(nombre_imagen))"
   ]
  },
  {
   "cell_type": "code",
   "execution_count": 18,
   "metadata": {
    "execution": {
     "iopub.execute_input": "2020-11-29T03:12:02.380736Z",
     "iopub.status.busy": "2020-11-29T03:12:02.379835Z",
     "iopub.status.idle": "2020-11-29T03:12:02.382867Z",
     "shell.execute_reply": "2020-11-29T03:12:02.382330Z"
    },
    "papermill": {
     "duration": 0.052619,
     "end_time": "2020-11-29T03:12:02.382982",
     "exception": false,
     "start_time": "2020-11-29T03:12:02.330363",
     "status": "completed"
    },
    "tags": []
   },
   "outputs": [],
   "source": [
    "class Data(Dataset):\n",
    "    def __init__(self, df: pd.DataFrame, path: str, train: bool = True, preprocesar = None, context = None):\n",
    "        self.preprocesar = preprocesar\n",
    "        self.df = df\n",
    "        self.path = path\n",
    "        self.train = train\n",
    "        self.context = context\n",
    "        \n",
    "    def __getitem__(self, index):\n",
    "        im_path = os.path.join(self.path, self.df.iloc[index]['image_name'] + '.jpg')\n",
    "        x = cv2.imread(im_path)\n",
    "        meta = np.array(self.df.iloc[index][self.context].values, dtype=np.float32)\n",
    "\n",
    "        if self.preprocesar:\n",
    "            x = self.preprocesar(x)\n",
    "            \n",
    "        if self.train:\n",
    "            y = self.df.iloc[index]['target']\n",
    "            return (x, meta), y\n",
    "        else:\n",
    "            return (x, meta)\n",
    "    \n",
    "    def __len__(self):\n",
    "        return len(self.df)"
   ]
  },
  {
   "cell_type": "code",
   "execution_count": 19,
   "metadata": {
    "execution": {
     "iopub.execute_input": "2020-11-29T03:12:02.464114Z",
     "iopub.status.busy": "2020-11-29T03:12:02.463108Z",
     "iopub.status.idle": "2020-11-29T03:12:02.472787Z",
     "shell.execute_reply": "2020-11-29T03:12:02.472240Z"
    },
    "papermill": {
     "duration": 0.05401,
     "end_time": "2020-11-29T03:12:02.472906",
     "exception": false,
     "start_time": "2020-11-29T03:12:02.418896",
     "status": "completed"
    },
    "tags": []
   },
   "outputs": [],
   "source": [
    "class Red_Neuronal(nn.Module):\n",
    "    def __init__(self, pretrained, n_meta_features: int):\n",
    "        super(Red_Neuronal, self).__init__()\n",
    "        self.pretrained = pretrained\n",
    "        if 'Inception3' in str(pretrained.__class__):\n",
    "            self.pretrained.AuxLogits.fc = nn.Linear(in_features = 768, out_features = 1)\n",
    "            self.pretrained.fc = nn.Linear(in_features = 2048, out_features = 512, bias = True)\n",
    "        #if 'ResNet' in str(pretrained.__class__):\n",
    "         #   self.pretrained.fc = nn.Linear(in_features=512, out_features=1, bias=True)\n",
    "        self.meta = nn.Sequential(nn.Linear(n_meta_features, 512),\n",
    "                                  nn.BatchNorm1d(512),\n",
    "                                  nn.ReLU(),\n",
    "                                  nn.Dropout(p=0.25),\n",
    "                                  nn.Linear(512, 256),\n",
    "                                  nn.BatchNorm1d(256),\n",
    "                                  nn.ReLU(),\n",
    "                                  nn.Dropout(p=0.2))\n",
    "        self.output = nn.Linear(512 + 256, 1)\n",
    "        \n",
    "    def forward(self, inputs):\n",
    "        \"\"\"\n",
    "        No sigmoid in forward because we are going to use BCEWithLogitsLoss\n",
    "        Which applies sigmoid for us when calculating a loss\n",
    "        \"\"\"\n",
    "              \n",
    "        \n",
    "        x, meta = inputs\n",
    "        cnn_features = self.pretrained(x)\n",
    "        context = self.meta(meta)\n",
    "        features = torch.cat((cnn_features, context), dim=1)\n",
    "        output = self.ouput(features)\n",
    "        return output"
   ]
  },
  {
   "cell_type": "code",
   "execution_count": 20,
   "metadata": {
    "execution": {
     "iopub.execute_input": "2020-11-29T03:12:02.924734Z",
     "iopub.status.busy": "2020-11-29T03:12:02.923625Z",
     "iopub.status.idle": "2020-11-29T03:12:02.927079Z",
     "shell.execute_reply": "2020-11-29T03:12:02.926427Z"
    },
    "papermill": {
     "duration": 0.417531,
     "end_time": "2020-11-29T03:12:02.927205",
     "exception": false,
     "start_time": "2020-11-29T03:12:02.509674",
     "status": "completed"
    },
    "tags": []
   },
   "outputs": [],
   "source": [
    "device = torch.device(\"cuda\" if torch.cuda.is_available() else \"cpu\")"
   ]
  },
  {
   "cell_type": "code",
   "execution_count": 21,
   "metadata": {
    "execution": {
     "iopub.execute_input": "2020-11-29T03:12:03.012397Z",
     "iopub.status.busy": "2020-11-29T03:12:03.011224Z",
     "iopub.status.idle": "2020-11-29T03:12:03.023885Z",
     "shell.execute_reply": "2020-11-29T03:12:03.024415Z"
    },
    "papermill": {
     "duration": 0.061101,
     "end_time": "2020-11-29T03:12:03.024544",
     "exception": false,
     "start_time": "2020-11-29T03:12:02.963443",
     "status": "completed"
    },
    "tags": []
   },
   "outputs": [
    {
     "data": {
      "text/html": [
       "<div>\n",
       "<style scoped>\n",
       "    .dataframe tbody tr th:only-of-type {\n",
       "        vertical-align: middle;\n",
       "    }\n",
       "\n",
       "    .dataframe tbody tr th {\n",
       "        vertical-align: top;\n",
       "    }\n",
       "\n",
       "    .dataframe thead th {\n",
       "        text-align: right;\n",
       "    }\n",
       "</style>\n",
       "<table border=\"1\" class=\"dataframe\">\n",
       "  <thead>\n",
       "    <tr style=\"text-align: right;\">\n",
       "      <th></th>\n",
       "      <th>image_name</th>\n",
       "      <th>patient_id</th>\n",
       "      <th>sex</th>\n",
       "      <th>age_approx</th>\n",
       "      <th>anatom_site_general_challenge</th>\n",
       "      <th>diagnosis</th>\n",
       "      <th>benign_malignant</th>\n",
       "      <th>target</th>\n",
       "      <th>tfrecord</th>\n",
       "      <th>width</th>\n",
       "      <th>height</th>\n",
       "    </tr>\n",
       "  </thead>\n",
       "  <tbody>\n",
       "    <tr>\n",
       "      <th>0</th>\n",
       "      <td>ISIC_2637011</td>\n",
       "      <td>IP_7279968</td>\n",
       "      <td>male</td>\n",
       "      <td>45.0</td>\n",
       "      <td>head/neck</td>\n",
       "      <td>unknown</td>\n",
       "      <td>benign</td>\n",
       "      <td>0</td>\n",
       "      <td>0</td>\n",
       "      <td>6000</td>\n",
       "      <td>4000</td>\n",
       "    </tr>\n",
       "    <tr>\n",
       "      <th>1</th>\n",
       "      <td>ISIC_0015719</td>\n",
       "      <td>IP_3075186</td>\n",
       "      <td>female</td>\n",
       "      <td>45.0</td>\n",
       "      <td>upper extremity</td>\n",
       "      <td>unknown</td>\n",
       "      <td>benign</td>\n",
       "      <td>0</td>\n",
       "      <td>0</td>\n",
       "      <td>6000</td>\n",
       "      <td>4000</td>\n",
       "    </tr>\n",
       "    <tr>\n",
       "      <th>2</th>\n",
       "      <td>ISIC_0052212</td>\n",
       "      <td>IP_2842074</td>\n",
       "      <td>female</td>\n",
       "      <td>50.0</td>\n",
       "      <td>lower extremity</td>\n",
       "      <td>nevus</td>\n",
       "      <td>benign</td>\n",
       "      <td>0</td>\n",
       "      <td>6</td>\n",
       "      <td>1872</td>\n",
       "      <td>1053</td>\n",
       "    </tr>\n",
       "    <tr>\n",
       "      <th>3</th>\n",
       "      <td>ISIC_0068279</td>\n",
       "      <td>IP_6890425</td>\n",
       "      <td>female</td>\n",
       "      <td>45.0</td>\n",
       "      <td>head/neck</td>\n",
       "      <td>unknown</td>\n",
       "      <td>benign</td>\n",
       "      <td>0</td>\n",
       "      <td>0</td>\n",
       "      <td>1872</td>\n",
       "      <td>1053</td>\n",
       "    </tr>\n",
       "    <tr>\n",
       "      <th>4</th>\n",
       "      <td>ISIC_0074268</td>\n",
       "      <td>IP_8723313</td>\n",
       "      <td>female</td>\n",
       "      <td>55.0</td>\n",
       "      <td>upper extremity</td>\n",
       "      <td>unknown</td>\n",
       "      <td>benign</td>\n",
       "      <td>0</td>\n",
       "      <td>11</td>\n",
       "      <td>6000</td>\n",
       "      <td>4000</td>\n",
       "    </tr>\n",
       "  </tbody>\n",
       "</table>\n",
       "</div>"
      ],
      "text/plain": [
       "     image_name  patient_id     sex  age_approx anatom_site_general_challenge  \\\n",
       "0  ISIC_2637011  IP_7279968    male        45.0                     head/neck   \n",
       "1  ISIC_0015719  IP_3075186  female        45.0               upper extremity   \n",
       "2  ISIC_0052212  IP_2842074  female        50.0               lower extremity   \n",
       "3  ISIC_0068279  IP_6890425  female        45.0                     head/neck   \n",
       "4  ISIC_0074268  IP_8723313  female        55.0               upper extremity   \n",
       "\n",
       "  diagnosis benign_malignant  target  tfrecord  width  height  \n",
       "0   unknown           benign       0         0   6000    4000  \n",
       "1   unknown           benign       0         0   6000    4000  \n",
       "2     nevus           benign       0         6   1872    1053  \n",
       "3   unknown           benign       0         0   1872    1053  \n",
       "4   unknown           benign       0        11   6000    4000  "
      ]
     },
     "execution_count": 21,
     "metadata": {},
     "output_type": "execute_result"
    }
   ],
   "source": [
    "train.head()"
   ]
  },
  {
   "cell_type": "code",
   "execution_count": 22,
   "metadata": {
    "execution": {
     "iopub.execute_input": "2020-11-29T03:12:03.105490Z",
     "iopub.status.busy": "2020-11-29T03:12:03.104655Z",
     "iopub.status.idle": "2020-11-29T03:12:03.132215Z",
     "shell.execute_reply": "2020-11-29T03:12:03.131749Z"
    },
    "papermill": {
     "duration": 0.07092,
     "end_time": "2020-11-29T03:12:03.132319",
     "exception": false,
     "start_time": "2020-11-29T03:12:03.061399",
     "status": "completed"
    },
    "tags": []
   },
   "outputs": [
    {
     "data": {
      "text/html": [
       "<div>\n",
       "<style scoped>\n",
       "    .dataframe tbody tr th:only-of-type {\n",
       "        vertical-align: middle;\n",
       "    }\n",
       "\n",
       "    .dataframe tbody tr th {\n",
       "        vertical-align: top;\n",
       "    }\n",
       "\n",
       "    .dataframe thead th {\n",
       "        text-align: right;\n",
       "    }\n",
       "</style>\n",
       "<table border=\"1\" class=\"dataframe\">\n",
       "  <thead>\n",
       "    <tr style=\"text-align: right;\">\n",
       "      <th></th>\n",
       "      <th>image_name</th>\n",
       "      <th>patient_id</th>\n",
       "      <th>sexo</th>\n",
       "      <th>edad</th>\n",
       "      <th>localizacion</th>\n",
       "      <th>target</th>\n",
       "    </tr>\n",
       "  </thead>\n",
       "  <tbody>\n",
       "    <tr>\n",
       "      <th>0</th>\n",
       "      <td>ISIC_2637011</td>\n",
       "      <td>IP_7279968</td>\n",
       "      <td>male</td>\n",
       "      <td>45.0</td>\n",
       "      <td>head/neck</td>\n",
       "      <td>0</td>\n",
       "    </tr>\n",
       "    <tr>\n",
       "      <th>1</th>\n",
       "      <td>ISIC_0015719</td>\n",
       "      <td>IP_3075186</td>\n",
       "      <td>female</td>\n",
       "      <td>45.0</td>\n",
       "      <td>upper extremity</td>\n",
       "      <td>0</td>\n",
       "    </tr>\n",
       "    <tr>\n",
       "      <th>2</th>\n",
       "      <td>ISIC_0052212</td>\n",
       "      <td>IP_2842074</td>\n",
       "      <td>female</td>\n",
       "      <td>50.0</td>\n",
       "      <td>lower extremity</td>\n",
       "      <td>0</td>\n",
       "    </tr>\n",
       "    <tr>\n",
       "      <th>3</th>\n",
       "      <td>ISIC_0068279</td>\n",
       "      <td>IP_6890425</td>\n",
       "      <td>female</td>\n",
       "      <td>45.0</td>\n",
       "      <td>head/neck</td>\n",
       "      <td>0</td>\n",
       "    </tr>\n",
       "    <tr>\n",
       "      <th>4</th>\n",
       "      <td>ISIC_0074268</td>\n",
       "      <td>IP_8723313</td>\n",
       "      <td>female</td>\n",
       "      <td>55.0</td>\n",
       "      <td>upper extremity</td>\n",
       "      <td>0</td>\n",
       "    </tr>\n",
       "    <tr>\n",
       "      <th>...</th>\n",
       "      <td>...</td>\n",
       "      <td>...</td>\n",
       "      <td>...</td>\n",
       "      <td>...</td>\n",
       "      <td>...</td>\n",
       "      <td>...</td>\n",
       "    </tr>\n",
       "    <tr>\n",
       "      <th>33121</th>\n",
       "      <td>ISIC_9999134</td>\n",
       "      <td>IP_6526534</td>\n",
       "      <td>male</td>\n",
       "      <td>50.0</td>\n",
       "      <td>torso</td>\n",
       "      <td>0</td>\n",
       "    </tr>\n",
       "    <tr>\n",
       "      <th>33122</th>\n",
       "      <td>ISIC_9999320</td>\n",
       "      <td>IP_3650745</td>\n",
       "      <td>male</td>\n",
       "      <td>65.0</td>\n",
       "      <td>torso</td>\n",
       "      <td>0</td>\n",
       "    </tr>\n",
       "    <tr>\n",
       "      <th>33123</th>\n",
       "      <td>ISIC_9999515</td>\n",
       "      <td>IP_2026598</td>\n",
       "      <td>male</td>\n",
       "      <td>20.0</td>\n",
       "      <td>lower extremity</td>\n",
       "      <td>0</td>\n",
       "    </tr>\n",
       "    <tr>\n",
       "      <th>33124</th>\n",
       "      <td>ISIC_9999666</td>\n",
       "      <td>IP_7702038</td>\n",
       "      <td>male</td>\n",
       "      <td>50.0</td>\n",
       "      <td>lower extremity</td>\n",
       "      <td>0</td>\n",
       "    </tr>\n",
       "    <tr>\n",
       "      <th>33125</th>\n",
       "      <td>ISIC_9999806</td>\n",
       "      <td>IP_0046310</td>\n",
       "      <td>male</td>\n",
       "      <td>45.0</td>\n",
       "      <td>torso</td>\n",
       "      <td>0</td>\n",
       "    </tr>\n",
       "  </tbody>\n",
       "</table>\n",
       "<p>32531 rows × 6 columns</p>\n",
       "</div>"
      ],
      "text/plain": [
       "         image_name  patient_id    sexo  edad     localizacion  target\n",
       "0      ISIC_2637011  IP_7279968    male  45.0        head/neck       0\n",
       "1      ISIC_0015719  IP_3075186  female  45.0  upper extremity       0\n",
       "2      ISIC_0052212  IP_2842074  female  50.0  lower extremity       0\n",
       "3      ISIC_0068279  IP_6890425  female  45.0        head/neck       0\n",
       "4      ISIC_0074268  IP_8723313  female  55.0  upper extremity       0\n",
       "...             ...         ...     ...   ...              ...     ...\n",
       "33121  ISIC_9999134  IP_6526534    male  50.0            torso       0\n",
       "33122  ISIC_9999320  IP_3650745    male  65.0            torso       0\n",
       "33123  ISIC_9999515  IP_2026598    male  20.0  lower extremity       0\n",
       "33124  ISIC_9999666  IP_7702038    male  50.0  lower extremity       0\n",
       "33125  ISIC_9999806  IP_0046310    male  45.0            torso       0\n",
       "\n",
       "[32531 rows x 6 columns]"
      ]
     },
     "execution_count": 22,
     "metadata": {},
     "output_type": "execute_result"
    }
   ],
   "source": [
    "# beningo = 0; maligno = 1\n",
    "train = train.rename(columns = {'anatom_site_general_challenge':'localizacion', 'age_approx':'edad', 'sex':'sexo'})\n",
    "train = train[train.columns[:-3]]\n",
    "train.drop(labels = ['benign_malignant', 'diagnosis'], axis=1, inplace = True)\n",
    "train"
   ]
  },
  {
   "cell_type": "code",
   "execution_count": 23,
   "metadata": {
    "execution": {
     "iopub.execute_input": "2020-11-29T03:12:03.218934Z",
     "iopub.status.busy": "2020-11-29T03:12:03.218130Z",
     "iopub.status.idle": "2020-11-29T03:12:03.222183Z",
     "shell.execute_reply": "2020-11-29T03:12:03.221607Z"
    },
    "papermill": {
     "duration": 0.051516,
     "end_time": "2020-11-29T03:12:03.222281",
     "exception": false,
     "start_time": "2020-11-29T03:12:03.170765",
     "status": "completed"
    },
    "tags": []
   },
   "outputs": [
    {
     "data": {
      "text/plain": [
       "575"
      ]
     },
     "execution_count": 23,
     "metadata": {},
     "output_type": "execute_result"
    }
   ],
   "source": [
    "train['target'].sum()"
   ]
  },
  {
   "cell_type": "code",
   "execution_count": 24,
   "metadata": {
    "execution": {
     "iopub.execute_input": "2020-11-29T03:12:03.334448Z",
     "iopub.status.busy": "2020-11-29T03:12:03.315890Z",
     "iopub.status.idle": "2020-11-29T03:12:03.337539Z",
     "shell.execute_reply": "2020-11-29T03:12:03.338109Z"
    },
    "papermill": {
     "duration": 0.071916,
     "end_time": "2020-11-29T03:12:03.338248",
     "exception": false,
     "start_time": "2020-11-29T03:12:03.266332",
     "status": "completed"
    },
    "tags": []
   },
   "outputs": [
    {
     "data": {
      "text/html": [
       "<div>\n",
       "<style scoped>\n",
       "    .dataframe tbody tr th:only-of-type {\n",
       "        vertical-align: middle;\n",
       "    }\n",
       "\n",
       "    .dataframe tbody tr th {\n",
       "        vertical-align: top;\n",
       "    }\n",
       "\n",
       "    .dataframe thead th {\n",
       "        text-align: right;\n",
       "    }\n",
       "</style>\n",
       "<table border=\"1\" class=\"dataframe\">\n",
       "  <thead>\n",
       "    <tr style=\"text-align: right;\">\n",
       "      <th></th>\n",
       "      <th>image_name</th>\n",
       "      <th>patient_id</th>\n",
       "      <th>sexo</th>\n",
       "      <th>edad</th>\n",
       "      <th>localizacion</th>\n",
       "    </tr>\n",
       "  </thead>\n",
       "  <tbody>\n",
       "    <tr>\n",
       "      <th>1</th>\n",
       "      <td>ISIC_0052349</td>\n",
       "      <td>IP_7782715</td>\n",
       "      <td>male</td>\n",
       "      <td>40.0</td>\n",
       "      <td>lower extremity</td>\n",
       "    </tr>\n",
       "    <tr>\n",
       "      <th>2</th>\n",
       "      <td>ISIC_0058510</td>\n",
       "      <td>IP_7960270</td>\n",
       "      <td>female</td>\n",
       "      <td>55.0</td>\n",
       "      <td>torso</td>\n",
       "    </tr>\n",
       "    <tr>\n",
       "      <th>3</th>\n",
       "      <td>ISIC_0073313</td>\n",
       "      <td>IP_6375035</td>\n",
       "      <td>female</td>\n",
       "      <td>50.0</td>\n",
       "      <td>torso</td>\n",
       "    </tr>\n",
       "    <tr>\n",
       "      <th>4</th>\n",
       "      <td>ISIC_0073502</td>\n",
       "      <td>IP_0589375</td>\n",
       "      <td>female</td>\n",
       "      <td>45.0</td>\n",
       "      <td>lower extremity</td>\n",
       "    </tr>\n",
       "    <tr>\n",
       "      <th>5</th>\n",
       "      <td>ISIC_0074618</td>\n",
       "      <td>IP_4438996</td>\n",
       "      <td>male</td>\n",
       "      <td>50.0</td>\n",
       "      <td>lower extremity</td>\n",
       "    </tr>\n",
       "    <tr>\n",
       "      <th>...</th>\n",
       "      <td>...</td>\n",
       "      <td>...</td>\n",
       "      <td>...</td>\n",
       "      <td>...</td>\n",
       "      <td>...</td>\n",
       "    </tr>\n",
       "    <tr>\n",
       "      <th>10977</th>\n",
       "      <td>ISIC_9992485</td>\n",
       "      <td>IP_4152479</td>\n",
       "      <td>male</td>\n",
       "      <td>40.0</td>\n",
       "      <td>torso</td>\n",
       "    </tr>\n",
       "    <tr>\n",
       "      <th>10978</th>\n",
       "      <td>ISIC_9996992</td>\n",
       "      <td>IP_4890115</td>\n",
       "      <td>male</td>\n",
       "      <td>35.0</td>\n",
       "      <td>torso</td>\n",
       "    </tr>\n",
       "    <tr>\n",
       "      <th>10979</th>\n",
       "      <td>ISIC_9997917</td>\n",
       "      <td>IP_2852390</td>\n",
       "      <td>male</td>\n",
       "      <td>25.0</td>\n",
       "      <td>upper extremity</td>\n",
       "    </tr>\n",
       "    <tr>\n",
       "      <th>10980</th>\n",
       "      <td>ISIC_9998234</td>\n",
       "      <td>IP_8861963</td>\n",
       "      <td>male</td>\n",
       "      <td>65.0</td>\n",
       "      <td>lower extremity</td>\n",
       "    </tr>\n",
       "    <tr>\n",
       "      <th>10981</th>\n",
       "      <td>ISIC_9999302</td>\n",
       "      <td>IP_6214039</td>\n",
       "      <td>male</td>\n",
       "      <td>30.0</td>\n",
       "      <td>upper extremity</td>\n",
       "    </tr>\n",
       "  </tbody>\n",
       "</table>\n",
       "<p>10631 rows × 5 columns</p>\n",
       "</div>"
      ],
      "text/plain": [
       "         image_name  patient_id    sexo  edad     localizacion\n",
       "1      ISIC_0052349  IP_7782715    male  40.0  lower extremity\n",
       "2      ISIC_0058510  IP_7960270  female  55.0            torso\n",
       "3      ISIC_0073313  IP_6375035  female  50.0            torso\n",
       "4      ISIC_0073502  IP_0589375  female  45.0  lower extremity\n",
       "5      ISIC_0074618  IP_4438996    male  50.0  lower extremity\n",
       "...             ...         ...     ...   ...              ...\n",
       "10977  ISIC_9992485  IP_4152479    male  40.0            torso\n",
       "10978  ISIC_9996992  IP_4890115    male  35.0            torso\n",
       "10979  ISIC_9997917  IP_2852390    male  25.0  upper extremity\n",
       "10980  ISIC_9998234  IP_8861963    male  65.0  lower extremity\n",
       "10981  ISIC_9999302  IP_6214039    male  30.0  upper extremity\n",
       "\n",
       "[10631 rows x 5 columns]"
      ]
     },
     "execution_count": 24,
     "metadata": {},
     "output_type": "execute_result"
    }
   ],
   "source": [
    "test = test.rename(columns = {'anatom_site_general_challenge':'localizacion', 'age_approx':'edad', 'sex':'sexo'})\n",
    "test = test[test.columns[:-2]]\n",
    "test"
   ]
  },
  {
   "cell_type": "code",
   "execution_count": 25,
   "metadata": {
    "execution": {
     "iopub.execute_input": "2020-11-29T03:12:03.436496Z",
     "iopub.status.busy": "2020-11-29T03:12:03.434305Z",
     "iopub.status.idle": "2020-11-29T03:12:03.442943Z",
     "shell.execute_reply": "2020-11-29T03:12:03.443495Z"
    },
    "papermill": {
     "duration": 0.058269,
     "end_time": "2020-11-29T03:12:03.443627",
     "exception": false,
     "start_time": "2020-11-29T03:12:03.385358",
     "status": "completed"
    },
    "tags": []
   },
   "outputs": [],
   "source": [
    "loc_dummies_train = pd.get_dummies(train['localizacion'],dummy_na=False, dtype=np.uint8, prefix='site')"
   ]
  },
  {
   "cell_type": "code",
   "execution_count": 26,
   "metadata": {
    "execution": {
     "iopub.execute_input": "2020-11-29T03:12:03.533935Z",
     "iopub.status.busy": "2020-11-29T03:12:03.533141Z",
     "iopub.status.idle": "2020-11-29T03:12:03.537201Z",
     "shell.execute_reply": "2020-11-29T03:12:03.537742Z"
    },
    "papermill": {
     "duration": 0.049404,
     "end_time": "2020-11-29T03:12:03.537894",
     "exception": false,
     "start_time": "2020-11-29T03:12:03.488490",
     "status": "completed"
    },
    "tags": []
   },
   "outputs": [
    {
     "name": "stdout",
     "output_type": "stream",
     "text": [
      "(32531, 6)\n"
     ]
    }
   ],
   "source": [
    "print(train.shape)"
   ]
  },
  {
   "cell_type": "code",
   "execution_count": 27,
   "metadata": {
    "execution": {
     "iopub.execute_input": "2020-11-29T03:12:03.632345Z",
     "iopub.status.busy": "2020-11-29T03:12:03.631460Z",
     "iopub.status.idle": "2020-11-29T03:12:03.635806Z",
     "shell.execute_reply": "2020-11-29T03:12:03.635323Z"
    },
    "papermill": {
     "duration": 0.056979,
     "end_time": "2020-11-29T03:12:03.635903",
     "exception": false,
     "start_time": "2020-11-29T03:12:03.578924",
     "status": "completed"
    },
    "tags": []
   },
   "outputs": [
    {
     "data": {
      "text/html": [
       "<div>\n",
       "<style scoped>\n",
       "    .dataframe tbody tr th:only-of-type {\n",
       "        vertical-align: middle;\n",
       "    }\n",
       "\n",
       "    .dataframe tbody tr th {\n",
       "        vertical-align: top;\n",
       "    }\n",
       "\n",
       "    .dataframe thead th {\n",
       "        text-align: right;\n",
       "    }\n",
       "</style>\n",
       "<table border=\"1\" class=\"dataframe\">\n",
       "  <thead>\n",
       "    <tr style=\"text-align: right;\">\n",
       "      <th></th>\n",
       "      <th>site_head/neck</th>\n",
       "      <th>site_lower extremity</th>\n",
       "      <th>site_oral/genital</th>\n",
       "      <th>site_palms/soles</th>\n",
       "      <th>site_torso</th>\n",
       "      <th>site_upper extremity</th>\n",
       "    </tr>\n",
       "  </thead>\n",
       "  <tbody>\n",
       "    <tr>\n",
       "      <th>0</th>\n",
       "      <td>1</td>\n",
       "      <td>0</td>\n",
       "      <td>0</td>\n",
       "      <td>0</td>\n",
       "      <td>0</td>\n",
       "      <td>0</td>\n",
       "    </tr>\n",
       "    <tr>\n",
       "      <th>1</th>\n",
       "      <td>0</td>\n",
       "      <td>0</td>\n",
       "      <td>0</td>\n",
       "      <td>0</td>\n",
       "      <td>0</td>\n",
       "      <td>1</td>\n",
       "    </tr>\n",
       "    <tr>\n",
       "      <th>2</th>\n",
       "      <td>0</td>\n",
       "      <td>1</td>\n",
       "      <td>0</td>\n",
       "      <td>0</td>\n",
       "      <td>0</td>\n",
       "      <td>0</td>\n",
       "    </tr>\n",
       "    <tr>\n",
       "      <th>3</th>\n",
       "      <td>1</td>\n",
       "      <td>0</td>\n",
       "      <td>0</td>\n",
       "      <td>0</td>\n",
       "      <td>0</td>\n",
       "      <td>0</td>\n",
       "    </tr>\n",
       "    <tr>\n",
       "      <th>4</th>\n",
       "      <td>0</td>\n",
       "      <td>0</td>\n",
       "      <td>0</td>\n",
       "      <td>0</td>\n",
       "      <td>0</td>\n",
       "      <td>1</td>\n",
       "    </tr>\n",
       "    <tr>\n",
       "      <th>...</th>\n",
       "      <td>...</td>\n",
       "      <td>...</td>\n",
       "      <td>...</td>\n",
       "      <td>...</td>\n",
       "      <td>...</td>\n",
       "      <td>...</td>\n",
       "    </tr>\n",
       "    <tr>\n",
       "      <th>33121</th>\n",
       "      <td>0</td>\n",
       "      <td>0</td>\n",
       "      <td>0</td>\n",
       "      <td>0</td>\n",
       "      <td>1</td>\n",
       "      <td>0</td>\n",
       "    </tr>\n",
       "    <tr>\n",
       "      <th>33122</th>\n",
       "      <td>0</td>\n",
       "      <td>0</td>\n",
       "      <td>0</td>\n",
       "      <td>0</td>\n",
       "      <td>1</td>\n",
       "      <td>0</td>\n",
       "    </tr>\n",
       "    <tr>\n",
       "      <th>33123</th>\n",
       "      <td>0</td>\n",
       "      <td>1</td>\n",
       "      <td>0</td>\n",
       "      <td>0</td>\n",
       "      <td>0</td>\n",
       "      <td>0</td>\n",
       "    </tr>\n",
       "    <tr>\n",
       "      <th>33124</th>\n",
       "      <td>0</td>\n",
       "      <td>1</td>\n",
       "      <td>0</td>\n",
       "      <td>0</td>\n",
       "      <td>0</td>\n",
       "      <td>0</td>\n",
       "    </tr>\n",
       "    <tr>\n",
       "      <th>33125</th>\n",
       "      <td>0</td>\n",
       "      <td>0</td>\n",
       "      <td>0</td>\n",
       "      <td>0</td>\n",
       "      <td>1</td>\n",
       "      <td>0</td>\n",
       "    </tr>\n",
       "  </tbody>\n",
       "</table>\n",
       "<p>32531 rows × 6 columns</p>\n",
       "</div>"
      ],
      "text/plain": [
       "       site_head/neck  site_lower extremity  site_oral/genital  \\\n",
       "0                   1                     0                  0   \n",
       "1                   0                     0                  0   \n",
       "2                   0                     1                  0   \n",
       "3                   1                     0                  0   \n",
       "4                   0                     0                  0   \n",
       "...               ...                   ...                ...   \n",
       "33121               0                     0                  0   \n",
       "33122               0                     0                  0   \n",
       "33123               0                     1                  0   \n",
       "33124               0                     1                  0   \n",
       "33125               0                     0                  0   \n",
       "\n",
       "       site_palms/soles  site_torso  site_upper extremity  \n",
       "0                     0           0                     0  \n",
       "1                     0           0                     1  \n",
       "2                     0           0                     0  \n",
       "3                     0           0                     0  \n",
       "4                     0           0                     1  \n",
       "...                 ...         ...                   ...  \n",
       "33121                 0           1                     0  \n",
       "33122                 0           1                     0  \n",
       "33123                 0           0                     0  \n",
       "33124                 0           0                     0  \n",
       "33125                 0           1                     0  \n",
       "\n",
       "[32531 rows x 6 columns]"
      ]
     },
     "execution_count": 27,
     "metadata": {},
     "output_type": "execute_result"
    }
   ],
   "source": [
    "loc_dummies_train.iloc[:train.shape[0]]"
   ]
  },
  {
   "cell_type": "code",
   "execution_count": 28,
   "metadata": {
    "execution": {
     "iopub.execute_input": "2020-11-29T03:12:03.727018Z",
     "iopub.status.busy": "2020-11-29T03:12:03.726055Z",
     "iopub.status.idle": "2020-11-29T03:12:03.737032Z",
     "shell.execute_reply": "2020-11-29T03:12:03.736392Z"
    },
    "papermill": {
     "duration": 0.057439,
     "end_time": "2020-11-29T03:12:03.737149",
     "exception": false,
     "start_time": "2020-11-29T03:12:03.679710",
     "status": "completed"
    },
    "tags": []
   },
   "outputs": [],
   "source": [
    "train = pd.concat([train, loc_dummies_train.iloc[:train.shape[0]]], axis=1)\n",
    "train.drop(labels = ['localizacion'], axis=1, inplace = True)"
   ]
  },
  {
   "cell_type": "code",
   "execution_count": 29,
   "metadata": {
    "execution": {
     "iopub.execute_input": "2020-11-29T03:12:03.853962Z",
     "iopub.status.busy": "2020-11-29T03:12:03.852918Z",
     "iopub.status.idle": "2020-11-29T03:12:03.888377Z",
     "shell.execute_reply": "2020-11-29T03:12:03.889169Z"
    },
    "papermill": {
     "duration": 0.107242,
     "end_time": "2020-11-29T03:12:03.889369",
     "exception": false,
     "start_time": "2020-11-29T03:12:03.782127",
     "status": "completed"
    },
    "tags": []
   },
   "outputs": [
    {
     "data": {
      "text/html": [
       "<div>\n",
       "<style scoped>\n",
       "    .dataframe tbody tr th:only-of-type {\n",
       "        vertical-align: middle;\n",
       "    }\n",
       "\n",
       "    .dataframe tbody tr th {\n",
       "        vertical-align: top;\n",
       "    }\n",
       "\n",
       "    .dataframe thead th {\n",
       "        text-align: right;\n",
       "    }\n",
       "</style>\n",
       "<table border=\"1\" class=\"dataframe\">\n",
       "  <thead>\n",
       "    <tr style=\"text-align: right;\">\n",
       "      <th></th>\n",
       "      <th>image_name</th>\n",
       "      <th>patient_id</th>\n",
       "      <th>sexo</th>\n",
       "      <th>edad</th>\n",
       "      <th>site_head/neck</th>\n",
       "      <th>site_lower extremity</th>\n",
       "      <th>site_oral/genital</th>\n",
       "      <th>site_palms/soles</th>\n",
       "      <th>site_torso</th>\n",
       "      <th>site_upper extremity</th>\n",
       "      <th>target</th>\n",
       "    </tr>\n",
       "  </thead>\n",
       "  <tbody>\n",
       "    <tr>\n",
       "      <th>0</th>\n",
       "      <td>ISIC_2637011</td>\n",
       "      <td>IP_7279968</td>\n",
       "      <td>male</td>\n",
       "      <td>45.0</td>\n",
       "      <td>1</td>\n",
       "      <td>0</td>\n",
       "      <td>0</td>\n",
       "      <td>0</td>\n",
       "      <td>0</td>\n",
       "      <td>0</td>\n",
       "      <td>0</td>\n",
       "    </tr>\n",
       "    <tr>\n",
       "      <th>1</th>\n",
       "      <td>ISIC_0015719</td>\n",
       "      <td>IP_3075186</td>\n",
       "      <td>female</td>\n",
       "      <td>45.0</td>\n",
       "      <td>0</td>\n",
       "      <td>0</td>\n",
       "      <td>0</td>\n",
       "      <td>0</td>\n",
       "      <td>0</td>\n",
       "      <td>1</td>\n",
       "      <td>0</td>\n",
       "    </tr>\n",
       "    <tr>\n",
       "      <th>2</th>\n",
       "      <td>ISIC_0052212</td>\n",
       "      <td>IP_2842074</td>\n",
       "      <td>female</td>\n",
       "      <td>50.0</td>\n",
       "      <td>0</td>\n",
       "      <td>1</td>\n",
       "      <td>0</td>\n",
       "      <td>0</td>\n",
       "      <td>0</td>\n",
       "      <td>0</td>\n",
       "      <td>0</td>\n",
       "    </tr>\n",
       "    <tr>\n",
       "      <th>3</th>\n",
       "      <td>ISIC_0068279</td>\n",
       "      <td>IP_6890425</td>\n",
       "      <td>female</td>\n",
       "      <td>45.0</td>\n",
       "      <td>1</td>\n",
       "      <td>0</td>\n",
       "      <td>0</td>\n",
       "      <td>0</td>\n",
       "      <td>0</td>\n",
       "      <td>0</td>\n",
       "      <td>0</td>\n",
       "    </tr>\n",
       "    <tr>\n",
       "      <th>4</th>\n",
       "      <td>ISIC_0074268</td>\n",
       "      <td>IP_8723313</td>\n",
       "      <td>female</td>\n",
       "      <td>55.0</td>\n",
       "      <td>0</td>\n",
       "      <td>0</td>\n",
       "      <td>0</td>\n",
       "      <td>0</td>\n",
       "      <td>0</td>\n",
       "      <td>1</td>\n",
       "      <td>0</td>\n",
       "    </tr>\n",
       "  </tbody>\n",
       "</table>\n",
       "</div>"
      ],
      "text/plain": [
       "     image_name  patient_id    sexo  edad  site_head/neck  \\\n",
       "0  ISIC_2637011  IP_7279968    male  45.0               1   \n",
       "1  ISIC_0015719  IP_3075186  female  45.0               0   \n",
       "2  ISIC_0052212  IP_2842074  female  50.0               0   \n",
       "3  ISIC_0068279  IP_6890425  female  45.0               1   \n",
       "4  ISIC_0074268  IP_8723313  female  55.0               0   \n",
       "\n",
       "   site_lower extremity  site_oral/genital  site_palms/soles  site_torso  \\\n",
       "0                     0                  0                 0           0   \n",
       "1                     0                  0                 0           0   \n",
       "2                     1                  0                 0           0   \n",
       "3                     0                  0                 0           0   \n",
       "4                     0                  0                 0           0   \n",
       "\n",
       "   site_upper extremity  target  \n",
       "0                     0       0  \n",
       "1                     1       0  \n",
       "2                     0       0  \n",
       "3                     0       0  \n",
       "4                     1       0  "
      ]
     },
     "execution_count": 29,
     "metadata": {},
     "output_type": "execute_result"
    }
   ],
   "source": [
    "train = train[['image_name', 'patient_id', 'sexo', 'edad', \n",
    "              'site_head/neck','site_lower extremity', 'site_oral/genital', \n",
    "               'site_palms/soles','site_torso', 'site_upper extremity', 'target']]\n",
    "train.head()"
   ]
  },
  {
   "cell_type": "code",
   "execution_count": 30,
   "metadata": {
    "execution": {
     "iopub.execute_input": "2020-11-29T03:12:04.040171Z",
     "iopub.status.busy": "2020-11-29T03:12:04.039207Z",
     "iopub.status.idle": "2020-11-29T03:12:04.058363Z",
     "shell.execute_reply": "2020-11-29T03:12:04.059067Z"
    },
    "papermill": {
     "duration": 0.088079,
     "end_time": "2020-11-29T03:12:04.059253",
     "exception": false,
     "start_time": "2020-11-29T03:12:03.971174",
     "status": "completed"
    },
    "tags": []
   },
   "outputs": [
    {
     "data": {
      "text/html": [
       "<div>\n",
       "<style scoped>\n",
       "    .dataframe tbody tr th:only-of-type {\n",
       "        vertical-align: middle;\n",
       "    }\n",
       "\n",
       "    .dataframe tbody tr th {\n",
       "        vertical-align: top;\n",
       "    }\n",
       "\n",
       "    .dataframe thead th {\n",
       "        text-align: right;\n",
       "    }\n",
       "</style>\n",
       "<table border=\"1\" class=\"dataframe\">\n",
       "  <thead>\n",
       "    <tr style=\"text-align: right;\">\n",
       "      <th></th>\n",
       "      <th>image_name</th>\n",
       "      <th>patient_id</th>\n",
       "      <th>sexo</th>\n",
       "      <th>edad</th>\n",
       "      <th>site_head/neck</th>\n",
       "      <th>site_lower extremity</th>\n",
       "      <th>site_oral/genital</th>\n",
       "      <th>site_palms/soles</th>\n",
       "      <th>site_torso</th>\n",
       "      <th>site_upper extremity</th>\n",
       "      <th>target</th>\n",
       "    </tr>\n",
       "  </thead>\n",
       "  <tbody>\n",
       "  </tbody>\n",
       "</table>\n",
       "</div>"
      ],
      "text/plain": [
       "Empty DataFrame\n",
       "Columns: [image_name, patient_id, sexo, edad, site_head/neck, site_lower extremity, site_oral/genital, site_palms/soles, site_torso, site_upper extremity, target]\n",
       "Index: []"
      ]
     },
     "execution_count": 30,
     "metadata": {},
     "output_type": "execute_result"
    }
   ],
   "source": [
    "train = train[train['edad'] > 10.0]\n",
    "train[train['edad'] < 15.0]"
   ]
  },
  {
   "cell_type": "code",
   "execution_count": 31,
   "metadata": {
    "execution": {
     "iopub.execute_input": "2020-11-29T03:12:04.248034Z",
     "iopub.status.busy": "2020-11-29T03:12:04.247182Z",
     "iopub.status.idle": "2020-11-29T03:12:04.596245Z",
     "shell.execute_reply": "2020-11-29T03:12:04.597128Z"
    },
    "papermill": {
     "duration": 0.476346,
     "end_time": "2020-11-29T03:12:04.597309",
     "exception": false,
     "start_time": "2020-11-29T03:12:04.120963",
     "status": "completed"
    },
    "tags": []
   },
   "outputs": [
    {
     "data": {
      "text/plain": [
       "array([[<matplotlib.axes._subplots.AxesSubplot object at 0x7f9a190cae10>]],\n",
       "      dtype=object)"
      ]
     },
     "execution_count": 31,
     "metadata": {},
     "output_type": "execute_result"
    },
    {
     "data": {
      "image/png": "[encoded data removed]",
      "text/plain": [
       "<Figure size 432x288 with 1 Axes>"
      ]
     },
     "metadata": {
      "needs_background": "light"
     },
     "output_type": "display_data"
    }
   ],
   "source": [
    "train.hist(column = 'edad', bins = 40)"
   ]
  },
  {
   "cell_type": "code",
   "execution_count": 32,
   "metadata": {
    "execution": {
     "iopub.execute_input": "2020-11-29T03:12:04.705849Z",
     "iopub.status.busy": "2020-11-29T03:12:04.704851Z",
     "iopub.status.idle": "2020-11-29T03:12:04.714909Z",
     "shell.execute_reply": "2020-11-29T03:12:04.715414Z"
    },
    "papermill": {
     "duration": 0.069778,
     "end_time": "2020-11-29T03:12:04.715556",
     "exception": false,
     "start_time": "2020-11-29T03:12:04.645778",
     "status": "completed"
    },
    "tags": []
   },
   "outputs": [],
   "source": [
    "loc_dummies_test = pd.get_dummies(test['localizacion'],dummy_na=True, dtype=np.uint8, prefix='site')\n",
    "test = pd.concat([test, loc_dummies_test.iloc[:test.shape[0]]], axis=1)\n",
    "test.drop(labels = ['localizacion'], axis=1, inplace = True)"
   ]
  },
  {
   "cell_type": "code",
   "execution_count": 33,
   "metadata": {
    "execution": {
     "iopub.execute_input": "2020-11-29T03:12:04.823940Z",
     "iopub.status.busy": "2020-11-29T03:12:04.822978Z",
     "iopub.status.idle": "2020-11-29T03:12:04.831398Z",
     "shell.execute_reply": "2020-11-29T03:12:04.831855Z"
    },
    "papermill": {
     "duration": 0.066598,
     "end_time": "2020-11-29T03:12:04.831979",
     "exception": false,
     "start_time": "2020-11-29T03:12:04.765381",
     "status": "completed"
    },
    "tags": []
   },
   "outputs": [],
   "source": [
    "train['sexo'] = train['sexo'].map({'male': 1, 'female': 0})\n",
    "test['sexo'] = test['sexo'].map({'male': 1, 'female': 0})"
   ]
  },
  {
   "cell_type": "code",
   "execution_count": 34,
   "metadata": {
    "execution": {
     "iopub.execute_input": "2020-11-29T03:12:04.928848Z",
     "iopub.status.busy": "2020-11-29T03:12:04.926038Z",
     "iopub.status.idle": "2020-11-29T03:12:04.932000Z",
     "shell.execute_reply": "2020-11-29T03:12:04.932517Z"
    },
    "papermill": {
     "duration": 0.056056,
     "end_time": "2020-11-29T03:12:04.932659",
     "exception": false,
     "start_time": "2020-11-29T03:12:04.876603",
     "status": "completed"
    },
    "tags": []
   },
   "outputs": [
    {
     "data": {
      "text/plain": [
       "90.0"
      ]
     },
     "execution_count": 34,
     "metadata": {},
     "output_type": "execute_result"
    }
   ],
   "source": [
    "# escalar variable numérica por el método min_max\n",
    "\n",
    "edad_max = train['edad'].max()\n",
    "edad_min = train['edad'].min()\n",
    "\n",
    "\n",
    "edad_max\n"
   ]
  },
  {
   "cell_type": "code",
   "execution_count": 35,
   "metadata": {
    "execution": {
     "iopub.execute_input": "2020-11-29T03:12:05.028458Z",
     "iopub.status.busy": "2020-11-29T03:12:05.027888Z",
     "iopub.status.idle": "2020-11-29T03:12:05.033990Z",
     "shell.execute_reply": "2020-11-29T03:12:05.033289Z"
    },
    "papermill": {
     "duration": 0.05763,
     "end_time": "2020-11-29T03:12:05.034113",
     "exception": false,
     "start_time": "2020-11-29T03:12:04.976483",
     "status": "completed"
    },
    "tags": []
   },
   "outputs": [
    {
     "data": {
      "text/plain": [
       "75.0"
      ]
     },
     "execution_count": 35,
     "metadata": {},
     "output_type": "execute_result"
    }
   ],
   "source": [
    "edad_max_test = test['edad'].max()\n",
    "edad_min_test = test['edad'].min()\n",
    "\n",
    "rango_edad = (edad_max - edad_min)\n",
    "rango_edad_test = (edad_max_test - edad_min_test)\n",
    "\n",
    "rango_edad"
   ]
  },
  {
   "cell_type": "code",
   "execution_count": 36,
   "metadata": {
    "execution": {
     "iopub.execute_input": "2020-11-29T03:12:05.133214Z",
     "iopub.status.busy": "2020-11-29T03:12:05.132320Z",
     "iopub.status.idle": "2020-11-29T03:12:05.138219Z",
     "shell.execute_reply": "2020-11-29T03:12:05.137708Z"
    },
    "papermill": {
     "duration": 0.056685,
     "end_time": "2020-11-29T03:12:05.138312",
     "exception": false,
     "start_time": "2020-11-29T03:12:05.081627",
     "status": "completed"
    },
    "tags": []
   },
   "outputs": [],
   "source": [
    "train['edad'] = (train['edad'] - edad_min) / rango_edad\n",
    "test['edad'] = (test['edad'] - edad_min_test) / rango_edad_test"
   ]
  },
  {
   "cell_type": "code",
   "execution_count": 37,
   "metadata": {
    "execution": {
     "iopub.execute_input": "2020-11-29T03:12:05.237740Z",
     "iopub.status.busy": "2020-11-29T03:12:05.236869Z",
     "iopub.status.idle": "2020-11-29T03:12:05.240358Z",
     "shell.execute_reply": "2020-11-29T03:12:05.240833Z"
    },
    "papermill": {
     "duration": 0.055334,
     "end_time": "2020-11-29T03:12:05.240951",
     "exception": false,
     "start_time": "2020-11-29T03:12:05.185617",
     "status": "completed"
    },
    "tags": []
   },
   "outputs": [
    {
     "data": {
      "text/plain": [
       "['sexo',\n",
       " 'edad',\n",
       " 'site_head/neck',\n",
       " 'site_lower extremity',\n",
       " 'site_oral/genital',\n",
       " 'site_palms/soles',\n",
       " 'site_torso',\n",
       " 'site_upper extremity']"
      ]
     },
     "execution_count": 37,
     "metadata": {},
     "output_type": "execute_result"
    }
   ],
   "source": [
    "context = ['sexo', 'edad'] + [col for col in train.columns if 'site_' in col]\n",
    "context"
   ]
  },
  {
   "cell_type": "code",
   "execution_count": 38,
   "metadata": {
    "execution": {
     "iopub.execute_input": "2020-11-29T03:12:05.337877Z",
     "iopub.status.busy": "2020-11-29T03:12:05.337006Z",
     "iopub.status.idle": "2020-11-29T03:12:05.340025Z",
     "shell.execute_reply": "2020-11-29T03:12:05.339512Z"
    },
    "papermill": {
     "duration": 0.054152,
     "end_time": "2020-11-29T03:12:05.340117",
     "exception": false,
     "start_time": "2020-11-29T03:12:05.285965",
     "status": "completed"
    },
    "tags": []
   },
   "outputs": [],
   "source": [
    "preprocesar = transforms.Compose([\n",
    "    transforms.ToPILImage(),\n",
    "    transforms.Resize(299),\n",
    "    transforms.ToTensor(),\n",
    "    transforms.Normalize(mean=[0.485, 0.456, 0.406], std=[0.229, 0.224, 0.225]),\n",
    "])"
   ]
  },
  {
   "cell_type": "code",
   "execution_count": 39,
   "metadata": {
    "execution": {
     "iopub.execute_input": "2020-11-29T03:12:05.440677Z",
     "iopub.status.busy": "2020-11-29T03:12:05.439941Z",
     "iopub.status.idle": "2020-11-29T03:12:09.732989Z",
     "shell.execute_reply": "2020-11-29T03:12:09.732334Z"
    },
    "papermill": {
     "duration": 4.347337,
     "end_time": "2020-11-29T03:12:09.733113",
     "exception": false,
     "start_time": "2020-11-29T03:12:05.385776",
     "status": "completed"
    },
    "tags": []
   },
   "outputs": [],
   "source": [
    "epochs = 20\n",
    "paciencia = 3\n",
    "\n",
    "oof = np.zeros((len(train), 1))  # Out Of Fold predictions\n",
    "preds = torch.zeros((len(test), 1), dtype=torch.float32, device=device)  # Predictions for test test\n",
    "\n",
    "#kf = GroupKFold(n_splits=4)\n",
    "kf = KFold(n_splits=4, shuffle=True, random_state=47)\n"
   ]
  },
  {
   "cell_type": "code",
   "execution_count": 40,
   "metadata": {
    "execution": {
     "iopub.execute_input": "2020-11-29T03:12:09.830015Z",
     "iopub.status.busy": "2020-11-29T03:12:09.829327Z",
     "iopub.status.idle": "2020-11-29T03:12:09.833604Z",
     "shell.execute_reply": "2020-11-29T03:12:09.833066Z"
    },
    "papermill": {
     "duration": 0.053024,
     "end_time": "2020-11-29T03:12:09.833754",
     "exception": false,
     "start_time": "2020-11-29T03:12:09.780730",
     "status": "completed"
    },
    "tags": []
   },
   "outputs": [],
   "source": [
    "#(n, b) = enumerate(kf.get_n_splits(X=np.zeros(len(train), dtype=np.int), y=train['target'], groups=train['patient_id'].tolist()), 1)\n",
    "#print(n)\n"
   ]
  },
  {
   "cell_type": "code",
   "execution_count": 41,
   "metadata": {
    "execution": {
     "iopub.execute_input": "2020-11-29T03:12:09.936560Z",
     "iopub.status.busy": "2020-11-29T03:12:09.935966Z",
     "iopub.status.idle": "2020-11-29T03:12:09.949417Z",
     "shell.execute_reply": "2020-11-29T03:12:09.950392Z"
    },
    "papermill": {
     "duration": 0.067996,
     "end_time": "2020-11-29T03:12:09.950531",
     "exception": false,
     "start_time": "2020-11-29T03:12:09.882535",
     "status": "completed"
    },
    "tags": []
   },
   "outputs": [
    {
     "name": "stdout",
     "output_type": "stream",
     "text": [
      "1 [    0     1     2 ... 32506 32509 32511] [    4     7     9 ... 32507 32508 32510]\n",
      "2 [    1     2     3 ... 32509 32510 32511] [    0    13    17 ... 32503 32504 32506]\n",
      "3 [    0     1     3 ... 32509 32510 32511] [    2     6    10 ... 32485 32489 32505]\n",
      "4 [    0     2     4 ... 32507 32508 32510] [    1     3     5 ... 32501 32509 32511]\n"
     ]
    }
   ],
   "source": [
    "for fold, (id_train, id_val) in enumerate(kf.split(X=np.zeros(len(train)), y=train['target']), 1):\n",
    "    print (fold, id_train, id_val)\n",
    "    "
   ]
  },
  {
   "cell_type": "code",
   "execution_count": 42,
   "metadata": {
    "execution": {
     "iopub.execute_input": "2020-11-29T03:12:10.051125Z",
     "iopub.status.busy": "2020-11-29T03:12:10.050313Z",
     "iopub.status.idle": "2020-11-29T03:12:10.053241Z",
     "shell.execute_reply": "2020-11-29T03:12:10.053765Z"
    },
    "papermill": {
     "duration": 0.055558,
     "end_time": "2020-11-29T03:12:10.053938",
     "exception": false,
     "start_time": "2020-11-29T03:12:09.998380",
     "status": "completed"
    },
    "tags": []
   },
   "outputs": [],
   "source": [
    "test_data = Data(df=test,\n",
    "                       path = '../input/jpeg-melanoma-256x256/test', \n",
    "                       train=False,\n",
    "                       preprocesar=preprocesar,\n",
    "                       context=context)"
   ]
  },
  {
   "cell_type": "code",
   "execution_count": 43,
   "metadata": {
    "execution": {
     "iopub.execute_input": "2020-11-29T03:12:10.178664Z",
     "iopub.status.busy": "2020-11-29T03:12:10.162859Z",
     "iopub.status.idle": "2020-11-29T03:12:12.889428Z",
     "shell.execute_reply": "2020-11-29T03:12:12.888258Z"
    },
    "papermill": {
     "duration": 2.787731,
     "end_time": "2020-11-29T03:12:12.889543",
     "exception": false,
     "start_time": "2020-11-29T03:12:10.101812",
     "status": "completed"
    },
    "tags": []
   },
   "outputs": [
    {
     "name": "stdout",
     "output_type": "stream",
     "text": [
      "==================== Fold 1 ====================\n"
     ]
    },
    {
     "name": "stderr",
     "output_type": "stream",
     "text": [
      "/opt/conda/lib/python3.7/site-packages/ipykernel_launcher.py:35: UserWarning: To copy construct from a tensor, it is recommended to use sourceTensor.clone().detach() or sourceTensor.clone().detach().requires_grad_(True), rather than torch.tensor(sourceTensor).\n",
      "/opt/conda/lib/python3.7/site-packages/ipykernel_launcher.py:36: UserWarning: To copy construct from a tensor, it is recommended to use sourceTensor.clone().detach() or sourceTensor.clone().detach().requires_grad_(True), rather than torch.tensor(sourceTensor).\n",
      "/opt/conda/lib/python3.7/site-packages/ipykernel_launcher.py:37: UserWarning: To copy construct from a tensor, it is recommended to use sourceTensor.clone().detach() or sourceTensor.clone().detach().requires_grad_(True), rather than torch.tensor(sourceTensor).\n"
     ]
    },
    {
     "ename": "TypeError",
     "evalue": "expected Tensor as element 0 in argument 0, but got InceptionOutputs",
     "output_type": "error",
     "traceback": [
      "\u001b[0;31m---------------------------------------------------------------------------\u001b[0m",
      "\u001b[0;31mTypeError\u001b[0m                                 Traceback (most recent call last)",
      "\u001b[0;32m<ipython-input-43-8a227c47751c>\u001b[0m in \u001b[0;36m<module>\u001b[0;34m\u001b[0m\n\u001b[1;32m     37\u001b[0m             \u001b[0my\u001b[0m \u001b[0;34m=\u001b[0m \u001b[0mtorch\u001b[0m\u001b[0;34m.\u001b[0m\u001b[0mtensor\u001b[0m\u001b[0;34m(\u001b[0m\u001b[0my\u001b[0m\u001b[0;34m,\u001b[0m \u001b[0mdevice\u001b[0m\u001b[0;34m=\u001b[0m\u001b[0mdevice\u001b[0m\u001b[0;34m,\u001b[0m \u001b[0mdtype\u001b[0m\u001b[0;34m=\u001b[0m\u001b[0mtorch\u001b[0m\u001b[0;34m.\u001b[0m\u001b[0mfloat32\u001b[0m\u001b[0;34m)\u001b[0m\u001b[0;34m\u001b[0m\u001b[0;34m\u001b[0m\u001b[0m\n\u001b[1;32m     38\u001b[0m             \u001b[0moptim\u001b[0m\u001b[0;34m.\u001b[0m\u001b[0mzero_grad\u001b[0m\u001b[0;34m(\u001b[0m\u001b[0;34m)\u001b[0m\u001b[0;34m\u001b[0m\u001b[0;34m\u001b[0m\u001b[0m\n\u001b[0;32m---> 39\u001b[0;31m             \u001b[0mz\u001b[0m\u001b[0;34m,\u001b[0m \u001b[0maux\u001b[0m \u001b[0;34m=\u001b[0m \u001b[0mmodel\u001b[0m\u001b[0;34m(\u001b[0m\u001b[0mx\u001b[0m\u001b[0;34m)\u001b[0m\u001b[0;34m\u001b[0m\u001b[0;34m\u001b[0m\u001b[0m\n\u001b[0m\u001b[1;32m     40\u001b[0m \u001b[0;34m\u001b[0m\u001b[0m\n\u001b[1;32m     41\u001b[0m             \u001b[0moutputs\u001b[0m\u001b[0;34m,\u001b[0m \u001b[0maux_outputs\u001b[0m \u001b[0;34m=\u001b[0m \u001b[0mmodel\u001b[0m\u001b[0;34m(\u001b[0m\u001b[0minputs\u001b[0m\u001b[0;34m)\u001b[0m\u001b[0;34m\u001b[0m\u001b[0;34m\u001b[0m\u001b[0m\n",
      "\u001b[0;32m/opt/conda/lib/python3.7/site-packages/torch/nn/modules/module.py\u001b[0m in \u001b[0;36m_call_impl\u001b[0;34m(self, *input, **kwargs)\u001b[0m\n\u001b[1;32m    720\u001b[0m             \u001b[0mresult\u001b[0m \u001b[0;34m=\u001b[0m \u001b[0mself\u001b[0m\u001b[0;34m.\u001b[0m\u001b[0m_slow_forward\u001b[0m\u001b[0;34m(\u001b[0m\u001b[0;34m*\u001b[0m\u001b[0minput\u001b[0m\u001b[0;34m,\u001b[0m \u001b[0;34m**\u001b[0m\u001b[0mkwargs\u001b[0m\u001b[0;34m)\u001b[0m\u001b[0;34m\u001b[0m\u001b[0;34m\u001b[0m\u001b[0m\n\u001b[1;32m    721\u001b[0m         \u001b[0;32melse\u001b[0m\u001b[0;34m:\u001b[0m\u001b[0;34m\u001b[0m\u001b[0;34m\u001b[0m\u001b[0m\n\u001b[0;32m--> 722\u001b[0;31m             \u001b[0mresult\u001b[0m \u001b[0;34m=\u001b[0m \u001b[0mself\u001b[0m\u001b[0;34m.\u001b[0m\u001b[0mforward\u001b[0m\u001b[0;34m(\u001b[0m\u001b[0;34m*\u001b[0m\u001b[0minput\u001b[0m\u001b[0;34m,\u001b[0m \u001b[0;34m**\u001b[0m\u001b[0mkwargs\u001b[0m\u001b[0;34m)\u001b[0m\u001b[0;34m\u001b[0m\u001b[0;34m\u001b[0m\u001b[0m\n\u001b[0m\u001b[1;32m    723\u001b[0m         for hook in itertools.chain(\n\u001b[1;32m    724\u001b[0m                 \u001b[0m_global_forward_hooks\u001b[0m\u001b[0;34m.\u001b[0m\u001b[0mvalues\u001b[0m\u001b[0;34m(\u001b[0m\u001b[0;34m)\u001b[0m\u001b[0;34m,\u001b[0m\u001b[0;34m\u001b[0m\u001b[0;34m\u001b[0m\u001b[0m\n",
      "\u001b[0;32m<ipython-input-19-15dfc65335b9>\u001b[0m in \u001b[0;36mforward\u001b[0;34m(self, inputs)\u001b[0m\n\u001b[1;32m     28\u001b[0m         \u001b[0mcnn_features\u001b[0m \u001b[0;34m=\u001b[0m \u001b[0mself\u001b[0m\u001b[0;34m.\u001b[0m\u001b[0mpretrained\u001b[0m\u001b[0;34m(\u001b[0m\u001b[0mx\u001b[0m\u001b[0;34m)\u001b[0m\u001b[0;34m\u001b[0m\u001b[0;34m\u001b[0m\u001b[0m\n\u001b[1;32m     29\u001b[0m         \u001b[0mcontext\u001b[0m \u001b[0;34m=\u001b[0m \u001b[0mself\u001b[0m\u001b[0;34m.\u001b[0m\u001b[0mmeta\u001b[0m\u001b[0;34m(\u001b[0m\u001b[0mmeta\u001b[0m\u001b[0;34m)\u001b[0m\u001b[0;34m\u001b[0m\u001b[0;34m\u001b[0m\u001b[0m\n\u001b[0;32m---> 30\u001b[0;31m         \u001b[0mfeatures\u001b[0m \u001b[0;34m=\u001b[0m \u001b[0mtorch\u001b[0m\u001b[0;34m.\u001b[0m\u001b[0mcat\u001b[0m\u001b[0;34m(\u001b[0m\u001b[0;34m(\u001b[0m\u001b[0mcnn_features\u001b[0m\u001b[0;34m,\u001b[0m \u001b[0mcontext\u001b[0m\u001b[0;34m)\u001b[0m\u001b[0;34m,\u001b[0m \u001b[0mdim\u001b[0m\u001b[0;34m=\u001b[0m\u001b[0;36m1\u001b[0m\u001b[0;34m)\u001b[0m\u001b[0;34m\u001b[0m\u001b[0;34m\u001b[0m\u001b[0m\n\u001b[0m\u001b[1;32m     31\u001b[0m         \u001b[0moutput\u001b[0m \u001b[0;34m=\u001b[0m \u001b[0mself\u001b[0m\u001b[0;34m.\u001b[0m\u001b[0mouput\u001b[0m\u001b[0;34m(\u001b[0m\u001b[0mfeatures\u001b[0m\u001b[0;34m)\u001b[0m\u001b[0;34m\u001b[0m\u001b[0;34m\u001b[0m\u001b[0m\n\u001b[1;32m     32\u001b[0m         \u001b[0;32mreturn\u001b[0m \u001b[0moutput\u001b[0m\u001b[0;34m\u001b[0m\u001b[0;34m\u001b[0m\u001b[0m\n",
      "\u001b[0;31mTypeError\u001b[0m: expected Tensor as element 0 in argument 0, but got InceptionOutputs"
     ]
    }
   ],
   "source": [
    "for fold, (id_train, id_val) in enumerate(kf.split(X=np.zeros(len(train)), y=train['target']), 1):\n",
    "    print('=' * 20, 'Fold', fold, '=' * 20) \n",
    "    model_path = f'model_{fold}.pth'  # Path and filename to save model to\n",
    "    best_val = 0  # Best validation score within this fold\n",
    "    model = Red_Neuronal(pretrained=pretrained, n_meta_features=len(context))\n",
    "    model = model.to(device)\n",
    "    \n",
    "    optim = torch.optim.Adam(model.parameters(), lr=0.001)\n",
    "    scheduler = ReduceLROnPlateau(optimizer=optim, mode='max', patience=1, verbose=True, factor=0.2)\n",
    "    criterion = nn.BCEWithLogitsLoss()\n",
    "    \n",
    "    train_data = Data(df=train.iloc[id_train].reset_index(drop=True), \n",
    "                            path='../input/jpeg-melanoma-256x256/train/', \n",
    "                            train=True, \n",
    "                            preprocesar=preprocesar,\n",
    "                            context=context)\n",
    "    val = Data(df=train.iloc[id_val].reset_index(drop=True), \n",
    "                            path='../input/jpeg-melanoma-256x256/train/', \n",
    "                            train=True, \n",
    "                            preprocesar=preprocesar,\n",
    "                            context=context)\n",
    "    \n",
    "    train_loader = DataLoader(dataset=train_data, batch_size=64, shuffle=True, num_workers=2)\n",
    "    val_loader = DataLoader(dataset=val, batch_size=16, shuffle=False, num_workers=2)\n",
    "    test_loader = DataLoader(dataset=test_data, batch_size=16, shuffle=False, num_workers=2)\n",
    "    \n",
    "        \n",
    "    for epoch in range(epochs):\n",
    "        start_time = time.time()\n",
    "        correct = 0\n",
    "        epoch_loss = 0\n",
    "        model.train()\n",
    "        \n",
    "        for x, y in train_loader:\n",
    "            x[0] = torch.tensor(x[0], device=device, dtype=torch.float32)\n",
    "            x[1] = torch.tensor(x[1], device=device, dtype=torch.float32)\n",
    "            y = torch.tensor(y, device=device, dtype=torch.float32)\n",
    "            optim.zero_grad()\n",
    "            z, aux = model(x)\n",
    "            \n",
    "            outputs, aux_outputs = model(inputs)\n",
    "            loss1 = criterion(z, y.unsqueeze(1))\n",
    "            loss2 = criterion(aux, y.unsqueeze(1))\n",
    "            loss = loss1 + 0.4*loss2\n",
    "            loss.backward()\n",
    "            optim.step()\n",
    "            pred = torch.round(torch.sigmoid(z))  # round off sigmoid to obtain predictions\n",
    "            correct += (pred.cpu() == y.cpu().unsqueeze(1)).sum().item()  # tracking number of correctly predicted samples\n",
    "            epoch_loss += loss.item()\n",
    "        train_acc = correct / len(id_train)\n",
    "        \n",
    "        model.eval()  # switch model to the evaluation mode\n",
    "        val_preds = torch.zeros((len(id_val), 1), dtype=torch.float32, device=device)\n",
    "        with torch.no_grad():  # Do not calculate gradient since we are only predicting\n",
    "            # Predicting on validation set\n",
    "            for j, (x_val, y_val) in enumerate(val_loader):\n",
    "                x_val[0] = torch.tensor(x_val[0], device=device, dtype=torch.float32)\n",
    "                x_val[1] = torch.tensor(x_val[1], device=device, dtype=torch.float32)\n",
    "                y_val = torch.tensor(y_val, device=device, dtype=torch.float32)\n",
    "                z_val = model(x_val)\n",
    "                val_pred = torch.sigmoid(z_val)\n",
    "                val_preds[j*val_loader.batch_size:j*val_loader.batch_size + x_val[0].shape[0]] = val_pred\n",
    "            val_acc = accuracy_score(train.iloc[id_val]['target'].values, torch.round(val_preds.cpu()))\n",
    "            val_roc = roc_auc_score(train.iloc[id_val]['target'].values, val_preds.cpu())\n",
    "            \n",
    "            print('Epoch {:03}: | Loss: {:.3f} | Train acc: {:.3f} | Val acc: {:.3f} | Val roc_auc: {:.3f} | Training time: {}'.format(\n",
    "            epoch + 1, \n",
    "            epoch_loss, \n",
    "            train_acc, \n",
    "            val_acc, \n",
    "            val_roc, \n",
    "            str(datetime.timedelta(seconds=time.time() - start_time))[:7]))\n",
    "            \n",
    "            scheduler.step(val_roc)\n",
    "                \n",
    "            if val_roc >= best_val:\n",
    "                best_val = val_roc\n",
    "                patience = es_patience  # Resetting patience since we have new best validation accuracy\n",
    "                torch.save(model, model_path)  # Saving current best model\n",
    "            else:\n",
    "                patience -= 1\n",
    "                if patience == 0:\n",
    "                    print('Early stopping. Best Val roc_auc: {:.3f}'.format(best_val))\n",
    "                    break\n",
    "                \n",
    "    model = torch.load(model_path)  # Loading best model of this fold\n",
    "    model.eval()  # switch model to the evaluation mode\n",
    "    val_preds = torch.zeros((len(id_val), 1), dtype=torch.float32, device=device)\n",
    "    with torch.no_grad():\n",
    "        # Predicting on validation set once again to obtain data for OOF\n",
    "        for j, (x_val, y_val) in enumerate(val_loader):\n",
    "            x_val[0] = torch.tensor(x_val[0], device=device, dtype=torch.float32)\n",
    "            x_val[1] = torch.tensor(x_val[1], device=device, dtype=torch.float32)\n",
    "            y_val = torch.tensor(y_val, device=device, dtype=torch.float32)\n",
    "            z_val = model(x_val)\n",
    "            val_pred = torch.sigmoid(z_val)\n",
    "            val_preds[j*val_loader.batch_size:j*val_loader.batch_size + x_val[0].shape[0]] = val_pred\n",
    "        oof[id_val] = val_preds.cpu().numpy()\n",
    "        \n",
    "        # Predicting on test set\n",
    "        tta_preds = torch.zeros((len(test), 1), dtype=torch.float32, device=device)\n",
    "        for _ in range(TTA):\n",
    "            for i, x_test in enumerate(test_loader):\n",
    "                x_test[0] = torch.tensor(x_test[0], device=device, dtype=torch.float32)\n",
    "                x_test[1] = torch.tensor(x_test[1], device=device, dtype=torch.float32)\n",
    "                z_test = model(x_test)\n",
    "                z_test = torch.sigmoid(z_test)\n",
    "                tta_preds[i*test_loader.batch_size:i*test_loader.batch_size + x_test[0].shape[0]] += z_test\n",
    "        preds += tta_preds / TTA\n",
    "    \n",
    "preds /= kf.n_split"
   ]
  },
  {
   "cell_type": "code",
   "execution_count": 44,
   "metadata": {
    "execution": {
     "iopub.execute_input": "2020-11-29T03:12:13.008321Z",
     "iopub.status.busy": "2020-11-29T03:12:13.007557Z",
     "iopub.status.idle": "2020-11-29T03:12:13.011289Z",
     "shell.execute_reply": "2020-11-29T03:12:13.011822Z"
    },
    "papermill": {
     "duration": 0.070365,
     "end_time": "2020-11-29T03:12:13.011950",
     "exception": false,
     "start_time": "2020-11-29T03:12:12.941585",
     "status": "completed"
    },
    "tags": []
   },
   "outputs": [
    {
     "ename": "NameError",
     "evalue": "name 'train_df' is not defined",
     "output_type": "error",
     "traceback": [
      "\u001b[0;31m---------------------------------------------------------------------------\u001b[0m",
      "\u001b[0;31mNameError\u001b[0m                                 Traceback (most recent call last)",
      "\u001b[0;32m<ipython-input-44-77cc88decf46>\u001b[0m in \u001b[0;36m<module>\u001b[0;34m\u001b[0m\n\u001b[0;32m----> 1\u001b[0;31m \u001b[0mprint\u001b[0m\u001b[0;34m(\u001b[0m\u001b[0;34m'OOF: {:.3f}'\u001b[0m\u001b[0;34m.\u001b[0m\u001b[0mformat\u001b[0m\u001b[0;34m(\u001b[0m\u001b[0mroc_auc_score\u001b[0m\u001b[0;34m(\u001b[0m\u001b[0mtrain_df\u001b[0m\u001b[0;34m[\u001b[0m\u001b[0;34m'target'\u001b[0m\u001b[0;34m]\u001b[0m\u001b[0;34m,\u001b[0m \u001b[0moof\u001b[0m\u001b[0;34m)\u001b[0m\u001b[0;34m)\u001b[0m\u001b[0;34m)\u001b[0m\u001b[0;34m\u001b[0m\u001b[0;34m\u001b[0m\u001b[0m\n\u001b[0m",
      "\u001b[0;31mNameError\u001b[0m: name 'train_df' is not defined"
     ]
    }
   ],
   "source": [
    "print('OOF: {:.3f}'.format(roc_auc_score(train_df['target'], oof)))"
   ]
  },
  {
   "cell_type": "code",
   "execution_count": 45,
   "metadata": {
    "execution": {
     "iopub.execute_input": "2020-11-29T03:12:13.131468Z",
     "iopub.status.busy": "2020-11-29T03:12:13.130598Z",
     "iopub.status.idle": "2020-11-29T03:12:13.135833Z",
     "shell.execute_reply": "2020-11-29T03:12:13.135313Z"
    },
    "papermill": {
     "duration": 0.07332,
     "end_time": "2020-11-29T03:12:13.135953",
     "exception": false,
     "start_time": "2020-11-29T03:12:13.062633",
     "status": "completed"
    },
    "tags": []
   },
   "outputs": [
    {
     "ename": "NameError",
     "evalue": "name 'sns' is not defined",
     "output_type": "error",
     "traceback": [
      "\u001b[0;31m---------------------------------------------------------------------------\u001b[0m",
      "\u001b[0;31mNameError\u001b[0m                                 Traceback (most recent call last)",
      "\u001b[0;32m<ipython-input-45-b50e0583ee12>\u001b[0m in \u001b[0;36m<module>\u001b[0;34m\u001b[0m\n\u001b[0;32m----> 1\u001b[0;31m \u001b[0msns\u001b[0m\u001b[0;34m.\u001b[0m\u001b[0mkdeplot\u001b[0m\u001b[0;34m(\u001b[0m\u001b[0mpd\u001b[0m\u001b[0;34m.\u001b[0m\u001b[0mSeries\u001b[0m\u001b[0;34m(\u001b[0m\u001b[0mpreds\u001b[0m\u001b[0;34m.\u001b[0m\u001b[0mcpu\u001b[0m\u001b[0;34m(\u001b[0m\u001b[0;34m)\u001b[0m\u001b[0;34m.\u001b[0m\u001b[0mnumpy\u001b[0m\u001b[0;34m(\u001b[0m\u001b[0;34m)\u001b[0m\u001b[0;34m.\u001b[0m\u001b[0mreshape\u001b[0m\u001b[0;34m(\u001b[0m\u001b[0;34m-\u001b[0m\u001b[0;36m1\u001b[0m\u001b[0;34m,\u001b[0m\u001b[0;34m)\u001b[0m\u001b[0;34m)\u001b[0m\u001b[0;34m)\u001b[0m\u001b[0;34m;\u001b[0m\u001b[0;34m\u001b[0m\u001b[0;34m\u001b[0m\u001b[0m\n\u001b[0m",
      "\u001b[0;31mNameError\u001b[0m: name 'sns' is not defined"
     ]
    }
   ],
   "source": [
    "sns.kdeplot(pd.Series(preds.cpu().numpy().reshape(-1,)));"
   ]
  },
  {
   "cell_type": "code",
   "execution_count": 46,
   "metadata": {
    "execution": {
     "iopub.execute_input": "2020-11-29T03:12:13.243096Z",
     "iopub.status.busy": "2020-11-29T03:12:13.242279Z",
     "iopub.status.idle": "2020-11-29T03:12:13.571223Z",
     "shell.execute_reply": "2020-11-29T03:12:13.570057Z"
    },
    "papermill": {
     "duration": 0.384997,
     "end_time": "2020-11-29T03:12:13.571353",
     "exception": false,
     "start_time": "2020-11-29T03:12:13.186356",
     "status": "completed"
    },
    "tags": []
   },
   "outputs": [],
   "source": [
    "# Saving OOF predictions so stacking would be easier\n",
    "pd.Series(oof.reshape(-1,)).to_csv('oof.csv', index=False)"
   ]
  },
  {
   "cell_type": "code",
   "execution_count": 47,
   "metadata": {
    "execution": {
     "iopub.execute_input": "2020-11-29T03:12:13.686001Z",
     "iopub.status.busy": "2020-11-29T03:12:13.680039Z",
     "iopub.status.idle": "2020-11-29T03:12:13.737422Z",
     "shell.execute_reply": "2020-11-29T03:12:13.736892Z"
    },
    "papermill": {
     "duration": 0.115258,
     "end_time": "2020-11-29T03:12:13.737519",
     "exception": false,
     "start_time": "2020-11-29T03:12:13.622261",
     "status": "completed"
    },
    "tags": []
   },
   "outputs": [
    {
     "ename": "FileNotFoundError",
     "evalue": "[Errno 2] No such file or directory: '/kaggle/input/siim-isic-melanoma-classification/sample_submission.csv'",
     "output_type": "error",
     "traceback": [
      "\u001b[0;31m---------------------------------------------------------------------------\u001b[0m",
      "\u001b[0;31mFileNotFoundError\u001b[0m                         Traceback (most recent call last)",
      "\u001b[0;32m<ipython-input-47-5fb3aaa2780e>\u001b[0m in \u001b[0;36m<module>\u001b[0;34m\u001b[0m\n\u001b[0;32m----> 1\u001b[0;31m \u001b[0msub\u001b[0m \u001b[0;34m=\u001b[0m \u001b[0mpd\u001b[0m\u001b[0;34m.\u001b[0m\u001b[0mread_csv\u001b[0m\u001b[0;34m(\u001b[0m\u001b[0;34m'/kaggle/input/siim-isic-melanoma-classification/sample_submission.csv'\u001b[0m\u001b[0;34m)\u001b[0m\u001b[0;34m\u001b[0m\u001b[0;34m\u001b[0m\u001b[0m\n\u001b[0m\u001b[1;32m      2\u001b[0m \u001b[0msub\u001b[0m\u001b[0;34m[\u001b[0m\u001b[0;34m'target'\u001b[0m\u001b[0;34m]\u001b[0m \u001b[0;34m=\u001b[0m \u001b[0mpreds\u001b[0m\u001b[0;34m.\u001b[0m\u001b[0mcpu\u001b[0m\u001b[0;34m(\u001b[0m\u001b[0;34m)\u001b[0m\u001b[0;34m.\u001b[0m\u001b[0mnumpy\u001b[0m\u001b[0;34m(\u001b[0m\u001b[0;34m)\u001b[0m\u001b[0;34m.\u001b[0m\u001b[0mreshape\u001b[0m\u001b[0;34m(\u001b[0m\u001b[0;34m-\u001b[0m\u001b[0;36m1\u001b[0m\u001b[0;34m,\u001b[0m\u001b[0;34m)\u001b[0m\u001b[0;34m\u001b[0m\u001b[0;34m\u001b[0m\u001b[0m\n\u001b[1;32m      3\u001b[0m \u001b[0msub\u001b[0m\u001b[0;34m.\u001b[0m\u001b[0mto_csv\u001b[0m\u001b[0;34m(\u001b[0m\u001b[0;34m'submission.csv'\u001b[0m\u001b[0;34m,\u001b[0m \u001b[0mindex\u001b[0m\u001b[0;34m=\u001b[0m\u001b[0;32mFalse\u001b[0m\u001b[0;34m)\u001b[0m\u001b[0;34m\u001b[0m\u001b[0;34m\u001b[0m\u001b[0m\n",
      "\u001b[0;32m/opt/conda/lib/python3.7/site-packages/pandas/io/parsers.py\u001b[0m in \u001b[0;36mread_csv\u001b[0;34m(filepath_or_buffer, sep, delimiter, header, names, index_col, usecols, squeeze, prefix, mangle_dupe_cols, dtype, engine, converters, true_values, false_values, skipinitialspace, skiprows, skipfooter, nrows, na_values, keep_default_na, na_filter, verbose, skip_blank_lines, parse_dates, infer_datetime_format, keep_date_col, date_parser, dayfirst, cache_dates, iterator, chunksize, compression, thousands, decimal, lineterminator, quotechar, quoting, doublequote, escapechar, comment, encoding, dialect, error_bad_lines, warn_bad_lines, delim_whitespace, low_memory, memory_map, float_precision)\u001b[0m\n\u001b[1;32m    686\u001b[0m     )\n\u001b[1;32m    687\u001b[0m \u001b[0;34m\u001b[0m\u001b[0m\n\u001b[0;32m--> 688\u001b[0;31m     \u001b[0;32mreturn\u001b[0m \u001b[0m_read\u001b[0m\u001b[0;34m(\u001b[0m\u001b[0mfilepath_or_buffer\u001b[0m\u001b[0;34m,\u001b[0m \u001b[0mkwds\u001b[0m\u001b[0;34m)\u001b[0m\u001b[0;34m\u001b[0m\u001b[0;34m\u001b[0m\u001b[0m\n\u001b[0m\u001b[1;32m    689\u001b[0m \u001b[0;34m\u001b[0m\u001b[0m\n\u001b[1;32m    690\u001b[0m \u001b[0;34m\u001b[0m\u001b[0m\n",
      "\u001b[0;32m/opt/conda/lib/python3.7/site-packages/pandas/io/parsers.py\u001b[0m in \u001b[0;36m_read\u001b[0;34m(filepath_or_buffer, kwds)\u001b[0m\n\u001b[1;32m    452\u001b[0m \u001b[0;34m\u001b[0m\u001b[0m\n\u001b[1;32m    453\u001b[0m     \u001b[0;31m# Create the parser.\u001b[0m\u001b[0;34m\u001b[0m\u001b[0;34m\u001b[0m\u001b[0;34m\u001b[0m\u001b[0m\n\u001b[0;32m--> 454\u001b[0;31m     \u001b[0mparser\u001b[0m \u001b[0;34m=\u001b[0m \u001b[0mTextFileReader\u001b[0m\u001b[0;34m(\u001b[0m\u001b[0mfp_or_buf\u001b[0m\u001b[0;34m,\u001b[0m \u001b[0;34m**\u001b[0m\u001b[0mkwds\u001b[0m\u001b[0;34m)\u001b[0m\u001b[0;34m\u001b[0m\u001b[0;34m\u001b[0m\u001b[0m\n\u001b[0m\u001b[1;32m    455\u001b[0m \u001b[0;34m\u001b[0m\u001b[0m\n\u001b[1;32m    456\u001b[0m     \u001b[0;32mif\u001b[0m \u001b[0mchunksize\u001b[0m \u001b[0;32mor\u001b[0m \u001b[0miterator\u001b[0m\u001b[0;34m:\u001b[0m\u001b[0;34m\u001b[0m\u001b[0;34m\u001b[0m\u001b[0m\n",
      "\u001b[0;32m/opt/conda/lib/python3.7/site-packages/pandas/io/parsers.py\u001b[0m in \u001b[0;36m__init__\u001b[0;34m(self, f, engine, **kwds)\u001b[0m\n\u001b[1;32m    946\u001b[0m             \u001b[0mself\u001b[0m\u001b[0;34m.\u001b[0m\u001b[0moptions\u001b[0m\u001b[0;34m[\u001b[0m\u001b[0;34m\"has_index_names\"\u001b[0m\u001b[0;34m]\u001b[0m \u001b[0;34m=\u001b[0m \u001b[0mkwds\u001b[0m\u001b[0;34m[\u001b[0m\u001b[0;34m\"has_index_names\"\u001b[0m\u001b[0;34m]\u001b[0m\u001b[0;34m\u001b[0m\u001b[0;34m\u001b[0m\u001b[0m\n\u001b[1;32m    947\u001b[0m \u001b[0;34m\u001b[0m\u001b[0m\n\u001b[0;32m--> 948\u001b[0;31m         \u001b[0mself\u001b[0m\u001b[0;34m.\u001b[0m\u001b[0m_make_engine\u001b[0m\u001b[0;34m(\u001b[0m\u001b[0mself\u001b[0m\u001b[0;34m.\u001b[0m\u001b[0mengine\u001b[0m\u001b[0;34m)\u001b[0m\u001b[0;34m\u001b[0m\u001b[0;34m\u001b[0m\u001b[0m\n\u001b[0m\u001b[1;32m    949\u001b[0m \u001b[0;34m\u001b[0m\u001b[0m\n\u001b[1;32m    950\u001b[0m     \u001b[0;32mdef\u001b[0m \u001b[0mclose\u001b[0m\u001b[0;34m(\u001b[0m\u001b[0mself\u001b[0m\u001b[0;34m)\u001b[0m\u001b[0;34m:\u001b[0m\u001b[0;34m\u001b[0m\u001b[0;34m\u001b[0m\u001b[0m\n",
      "\u001b[0;32m/opt/conda/lib/python3.7/site-packages/pandas/io/parsers.py\u001b[0m in \u001b[0;36m_make_engine\u001b[0;34m(self, engine)\u001b[0m\n\u001b[1;32m   1178\u001b[0m     \u001b[0;32mdef\u001b[0m \u001b[0m_make_engine\u001b[0m\u001b[0;34m(\u001b[0m\u001b[0mself\u001b[0m\u001b[0;34m,\u001b[0m \u001b[0mengine\u001b[0m\u001b[0;34m=\u001b[0m\u001b[0;34m\"c\"\u001b[0m\u001b[0;34m)\u001b[0m\u001b[0;34m:\u001b[0m\u001b[0;34m\u001b[0m\u001b[0;34m\u001b[0m\u001b[0m\n\u001b[1;32m   1179\u001b[0m         \u001b[0;32mif\u001b[0m \u001b[0mengine\u001b[0m \u001b[0;34m==\u001b[0m \u001b[0;34m\"c\"\u001b[0m\u001b[0;34m:\u001b[0m\u001b[0;34m\u001b[0m\u001b[0;34m\u001b[0m\u001b[0m\n\u001b[0;32m-> 1180\u001b[0;31m             \u001b[0mself\u001b[0m\u001b[0;34m.\u001b[0m\u001b[0m_engine\u001b[0m \u001b[0;34m=\u001b[0m \u001b[0mCParserWrapper\u001b[0m\u001b[0;34m(\u001b[0m\u001b[0mself\u001b[0m\u001b[0;34m.\u001b[0m\u001b[0mf\u001b[0m\u001b[0;34m,\u001b[0m \u001b[0;34m**\u001b[0m\u001b[0mself\u001b[0m\u001b[0;34m.\u001b[0m\u001b[0moptions\u001b[0m\u001b[0;34m)\u001b[0m\u001b[0;34m\u001b[0m\u001b[0;34m\u001b[0m\u001b[0m\n\u001b[0m\u001b[1;32m   1181\u001b[0m         \u001b[0;32melse\u001b[0m\u001b[0;34m:\u001b[0m\u001b[0;34m\u001b[0m\u001b[0;34m\u001b[0m\u001b[0m\n\u001b[1;32m   1182\u001b[0m             \u001b[0;32mif\u001b[0m \u001b[0mengine\u001b[0m \u001b[0;34m==\u001b[0m \u001b[0;34m\"python\"\u001b[0m\u001b[0;34m:\u001b[0m\u001b[0;34m\u001b[0m\u001b[0;34m\u001b[0m\u001b[0m\n",
      "\u001b[0;32m/opt/conda/lib/python3.7/site-packages/pandas/io/parsers.py\u001b[0m in \u001b[0;36m__init__\u001b[0;34m(self, src, **kwds)\u001b[0m\n\u001b[1;32m   2008\u001b[0m         \u001b[0mkwds\u001b[0m\u001b[0;34m[\u001b[0m\u001b[0;34m\"usecols\"\u001b[0m\u001b[0;34m]\u001b[0m \u001b[0;34m=\u001b[0m \u001b[0mself\u001b[0m\u001b[0;34m.\u001b[0m\u001b[0musecols\u001b[0m\u001b[0;34m\u001b[0m\u001b[0;34m\u001b[0m\u001b[0m\n\u001b[1;32m   2009\u001b[0m \u001b[0;34m\u001b[0m\u001b[0m\n\u001b[0;32m-> 2010\u001b[0;31m         \u001b[0mself\u001b[0m\u001b[0;34m.\u001b[0m\u001b[0m_reader\u001b[0m \u001b[0;34m=\u001b[0m \u001b[0mparsers\u001b[0m\u001b[0;34m.\u001b[0m\u001b[0mTextReader\u001b[0m\u001b[0;34m(\u001b[0m\u001b[0msrc\u001b[0m\u001b[0;34m,\u001b[0m \u001b[0;34m**\u001b[0m\u001b[0mkwds\u001b[0m\u001b[0;34m)\u001b[0m\u001b[0;34m\u001b[0m\u001b[0;34m\u001b[0m\u001b[0m\n\u001b[0m\u001b[1;32m   2011\u001b[0m         \u001b[0mself\u001b[0m\u001b[0;34m.\u001b[0m\u001b[0munnamed_cols\u001b[0m \u001b[0;34m=\u001b[0m \u001b[0mself\u001b[0m\u001b[0;34m.\u001b[0m\u001b[0m_reader\u001b[0m\u001b[0;34m.\u001b[0m\u001b[0munnamed_cols\u001b[0m\u001b[0;34m\u001b[0m\u001b[0;34m\u001b[0m\u001b[0m\n\u001b[1;32m   2012\u001b[0m \u001b[0;34m\u001b[0m\u001b[0m\n",
      "\u001b[0;32mpandas/_libs/parsers.pyx\u001b[0m in \u001b[0;36mpandas._libs.parsers.TextReader.__cinit__\u001b[0;34m()\u001b[0m\n",
      "\u001b[0;32mpandas/_libs/parsers.pyx\u001b[0m in \u001b[0;36mpandas._libs.parsers.TextReader._setup_parser_source\u001b[0;34m()\u001b[0m\n",
      "\u001b[0;31mFileNotFoundError\u001b[0m: [Errno 2] No such file or directory: '/kaggle/input/siim-isic-melanoma-classification/sample_submission.csv'"
     ]
    }
   ],
   "source": [
    "sub = pd.read_csv('/kaggle/input/siim-isic-melanoma-classification/sample_submission.csv')\n",
    "sub['target'] = preds.cpu().numpy().reshape(-1,)\n",
    "sub.to_csv('submission.csv', index=False)"
   ]
  }
 ],
 "metadata": {
  "kernelspec": {
   "display_name": "Python 3",
   "language": "python",
   "name": "python3"
  },
  "language_info": {
   "codemirror_mode": {
    "name": "ipython",
    "version": 3
   },
   "file_extension": ".py",
   "mimetype": "text/x-python",
   "name": "python",
   "nbconvert_exporter": "python",
   "pygments_lexer": "ipython3",
   "version": "3.7.6-final"
  },
  "papermill": {
   "duration": 42.738857,
   "end_time": "2020-11-29T03:12:14.501625",
   "environment_variables": {},
   "exception": null,
   "input_path": "__notebook__.ipynb",
   "output_path": "__notebook__.ipynb",
   "parameters": {},
   "start_time": "2020-11-29T03:11:31.762768",
   "version": "2.1.0"
  }
 },
 "nbformat": 4,
 "nbformat_minor": 4
}