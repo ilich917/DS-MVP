{
 "metadata": {
  "language_info": {
   "codemirror_mode": {
    "name": "ipython",
    "version": 3
   },
   "file_extension": ".py",
   "mimetype": "text/x-python",
   "name": "python",
   "nbconvert_exporter": "python",
   "pygments_lexer": "ipython3",
   "version": "3.7.6-final"
  },
  "orig_nbformat": 2,
  "kernelspec": {
   "name": "python3",
   "display_name": "Python 3",
   "language": "python"
  }
 },
 "nbformat": 4,
 "nbformat_minor": 2,
 "cells": [
  {
   "source": [
    "# Importar librerías / import the libraries"
   ],
   "cell_type": "markdown",
   "metadata": {}
  },
  {
   "cell_type": "code",
   "execution_count": 1,
   "metadata": {},
   "outputs": [],
   "source": [
    "import json\n",
    "import os\n",
    "import pandas as pd"
   ]
  },
  {
   "source": [
    "# Leer los datos desde la carpeta json / read data from json folder\n",
    "\n",
    "Los json guardan los keypoints detectados con openpose\n",
    "\n",
    "the json files save the keypoint from openpose"
   ],
   "cell_type": "markdown",
   "metadata": {}
  },
  {
   "cell_type": "code",
   "execution_count": null,
   "metadata": {},
   "outputs": [],
   "source": [
    "json_folder1 = './output/new_bible_out'\n",
    "\n",
    "#json_folders = [json_folder1, json_folder2]"
   ]
  },
  {
   "cell_type": "code",
   "execution_count": null,
   "metadata": {},
   "outputs": [],
   "source": [
    "x_train = []\n",
    "y_train = []\n",
    "file_name = []"
   ]
  },
  {
   "cell_type": "code",
   "execution_count": null,
   "metadata": {},
   "outputs": [],
   "source": [
    "for sub in os.listdir(json_folder1):\n",
    "    for file in sorted(os.listdir(json_folder1 + '/' + sub)):\n",
    "        for x in sorted(os.listdir(json_folder1 + '/' + sub + '/' + file)):\n",
    "            with open(json_folder1 + '/' + sub + '/' + file + '/' + x) as f:\n",
    "                data = json.load(f)\n",
    "                try:\n",
    "                    pose = data['people'][0]['pose_keypoints_2d']\n",
    "                    handL = data['people'][0]['hand_left_keypoints_2d']\n",
    "                    handR = data['people'][0]['hand_right_keypoints_2d']\n",
    "                except IndexError:\n",
    "                    continue\n",
    "                del pose[2::3]\n",
    "                del handL[2::3]\n",
    "                del handR[2::3]\n",
    "                final = pose[2:14] + handL + handR\n",
    "                x_train.append(pose[2:14] + handL + handR)\n",
    "                y_train.append(file)\n",
    "                file_name.append(sub + '_' + file + '_' + x.split('_')[0] + '.mp4')"
   ]
  },
  {
   "source": [
    "# Convertir a dataframe / convert it into dataframe"
   ],
   "cell_type": "markdown",
   "metadata": {}
  },
  {
   "cell_type": "code",
   "execution_count": null,
   "metadata": {},
   "outputs": [],
   "source": [
    "df1 = pd.DataFrame(x_train)\n",
    "df1 = ['label'] = y_train\n",
    "df1['filename'] = file_name"
   ]
  },
  {
   "cell_type": "code",
   "execution_count": null,
   "metadata": {},
   "outputs": [],
   "source": [
    "df1.to_csv('./output/test_new.csv')"
   ]
  },
  {
   "cell_type": "code",
   "execution_count": null,
   "metadata": {},
   "outputs": [],
   "source": [
    "df1.head(50)"
   ]
  },
  {
   "cell_type": "code",
   "execution_count": null,
   "metadata": {},
   "outputs": [],
   "source": [
    "#get value count\n",
    "file_names = df1['filename'].value_counts()\n",
    "labels = df1['label'].value_counts().index\n",
    "labels"
   ]
  },
  {
   "source": [
    "# Fijar 12 frames por video / set the frames to 12 for each video file"
   ],
   "cell_type": "markdown",
   "metadata": {}
  },
  {
   "cell_type": "code",
   "execution_count": null,
   "metadata": {},
   "outputs": [],
   "source": [
    "final_csv = pd.DataFrame()\n",
    "for index, value in file_names.iteritems():\n",
    "    data = df1[(df1['filename'] == index)]\n",
    "    if len(data) > 0:\n",
    "        skip = int((len(data))/12)\n",
    "        print(\"Skip value \", skip)\n",
    "        for i, d in enumerate(data.index):\n",
    "            if i % skip != 0:\n",
    "                data.drop(d, inplace = True)\n",
    "            if len(data) > 12:\n",
    "                diff = 12 -len(data)\n",
    "                data = data.iloc[:diff, :]\n",
    "            final_csv = final_csv.append(data)\n",
    "            print(\"Length: \", len(data))\n",
    "print(len(final_csv))"
   ]
  }
 ]
}